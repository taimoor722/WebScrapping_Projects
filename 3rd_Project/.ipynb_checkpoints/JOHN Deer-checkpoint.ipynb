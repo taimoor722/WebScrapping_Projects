{
 "cells": [
  {
   "cell_type": "code",
   "execution_count": 89,
   "metadata": {},
   "outputs": [],
   "source": [
    "from selenium import webdriver\n",
    "from selenium.webdriver.common.by import By\n",
    "from selenium.webdriver.common.keys import Keys\n",
    "from selenium.webdriver.support.ui import WebDriverWait\n",
    "from selenium.webdriver.support.expected_conditions import presence_of_element_located\n",
    "\n",
    "#This example requires Selenium WebDriver 3.13 or newer\n",
    "chromedriver=r\"C:\\Users\\taimo\\Desktop\\datascience_upwork\\chromedriver_win32\\chromedriver.exe\"\n",
    "\n",
    "driver=webdriver.Chrome(executable_path=chromedriver)\n",
    "# wait = WebDriverWait(driver, 10)\n",
    "# driver.get(\"https://google.com/ncr\")\n",
    "# driver.find_element_by_name(\"q\").send_keys(\"cheese\" + Keys.RETURN)\n",
    "# first_result = wait.until(presence_of_element_located((By.CSS_SELECTOR, \"h3>div\")))\n",
    "# print(first_result.get_attribute(\"textContent\"))"
   ]
  },
  {
   "cell_type": "code",
   "execution_count": 90,
   "metadata": {},
   "outputs": [],
   "source": [
    "# fc=class=\"ng-tns-c29-23 ui-inputtext ui-widget ui-state-default ui-corner-all ui-autocomplete-input ng-star-inserted\"\n",
    "# driver.find_element_by_class_name(fc).send_keys('70')"
   ]
  },
  {
   "cell_type": "code",
   "execution_count": 91,
   "metadata": {},
   "outputs": [],
   "source": [
    "import requests\n",
    "from bs4 import BeautifulSoup as bsup\n",
    "from selenium import webdriver\n",
    "from selenium.webdriver.support.ui import WebDriverWait\n",
    "from selenium.webdriver.support.expected_conditions import presence_of_element_located\n",
    "\n",
    "#     driver.find_element_by_name(\"q\").send_keys(\"cheese\" + Keys.RETURN)\n",
    "#     first_result = wait.until(presence_of_element_located((By.CSS_SELECTOR, \"h3>div\")))\n",
    "#     print(first_result.get_attribute(\"textContent\"))\n",
    "    \n",
    "    \n",
    "    \n",
    "import lxml\n",
    "chromedriver=r\"C:\\Users\\taimo\\Desktop\\datascience_upwork\\chromedriver_win32\\chromedriver.exe\"\n",
    "\n",
    "driver=webdriver.Chrome(executable_path=chromedriver)\n",
    "wait = WebDriverWait(driver, 10)\n",
    "# placeholder=\"PIN/Serial Number, Model\"\n",
    "driver.find_element_by_partial_link_text\n",
    "# driver.get('https://www.deere.com/en/parts-and-service/parts/')\n",
    "# driver.get('https://partscatalog.deere.com/jdrc/search/type/model/term/70')\n",
    "fc=\"ng-tns-c29-23 ui-inputtext ui-widget ui-state-default ui-corner-all ui-autocomplete-input ng-star-inserted\"\n",
    "# driver.find_element_by_class_name(fc).send_keys('70')\n",
    "fcx='//*[@id=\"SBSsearchInput\"]'"
   ]
  },
  {
   "cell_type": "code",
   "execution_count": 92,
   "metadata": {},
   "outputs": [],
   "source": [
    "# driver.find_element_by_xpath(fcx).send_keys('70'+ Keys.RETURN)"
   ]
  },
  {
   "cell_type": "code",
   "execution_count": 93,
   "metadata": {},
   "outputs": [],
   "source": [
    "driver.get('https://partscatalog.deere.com/jdrc/search/type/model/term/70')"
   ]
  },
  {
   "cell_type": "markdown",
   "metadata": {},
   "source": [
    "https://www.guru99.com/xpath-selenium.html"
   ]
  },
  {
   "cell_type": "code",
   "execution_count": 95,
   "metadata": {},
   "outputs": [],
   "source": [
    "# resultxpath='//*[@id=\"applicationContainer\"]/div/div[2]/div[1]/div[2]/app-search/div/div[2]/app-search-results/div/div[3]'\n",
    "# cls=driver.find_element_by_xpath(resultxpath)\n",
    "# cls=bsup(cls.parent.page_source,'html.parser')\n",
    "# cls=cls.find_all('div',{\"class\":\"linkList ng-star-inserted\"})\n",
    "# length=len(cls[0].find_all('a'))\n",
    "# cls[0].find_all('a')[1]\n",
    "# axpath='//*[@id=\"applicationContainer\"]/div/div[2]/div[1]/div[2]/app-search/div/div[2]/app-search-results/div/div[3]/a[1]'\n",
    "# # driver.find_element(cls[0].find_all('a')[0])"
   ]
  },
  {
   "cell_type": "code",
   "execution_count": 98,
   "metadata": {},
   "outputs": [
    {
     "data": {
      "text/plain": [
       "<a _ngcontent-c16=\"\" class=\"ng-star-inserted\"> 70 - 4-CYCLE<br _ngcontent-c16=\"\"/><span _ngcontent-c16=\"\" class=\"text-muted secondLine\">43CM Walk-Behind Mowers, 4-Cycle - PC4265</span></a>"
      ]
     },
     "execution_count": 98,
     "metadata": {},
     "output_type": "execute_result"
    }
   ],
   "source": [
    "# cls[0].find_all('a')[1]\n"
   ]
  },
  {
   "cell_type": "code",
   "execution_count": null,
   "metadata": {},
   "outputs": [],
   "source": [
    "driver.find_element(cls[0].find_all('a')[0])"
   ]
  },
  {
   "cell_type": "code",
   "execution_count": 99,
   "metadata": {},
   "outputs": [
    {
     "name": "stdout",
     "output_type": "stream",
     "text": [
      "<selenium.webdriver.remote.webelement.WebElement (session=\"ef3e2eb2b8e4aeddb0208f89ddf83b2a\", element=\"788ccb7e-9732-4a0b-818f-e7f1f1a74cc3\")>\n"
     ]
    },
    {
     "ename": "TypeError",
     "evalue": "object of type 'WebElement' has no len()",
     "output_type": "error",
     "traceback": [
      "\u001b[1;31m---------------------------------------------------------------------------\u001b[0m",
      "\u001b[1;31mTypeError\u001b[0m                                 Traceback (most recent call last)",
      "\u001b[1;32m<ipython-input-99-5a0bd8dd7009>\u001b[0m in \u001b[0;36m<module>\u001b[1;34m\u001b[0m\n\u001b[0;32m      5\u001b[0m \u001b[0mprint\u001b[0m\u001b[1;33m(\u001b[0m\u001b[0melement_ls\u001b[0m\u001b[1;33m)\u001b[0m\u001b[1;33m\u001b[0m\u001b[1;33m\u001b[0m\u001b[0m\n\u001b[0;32m      6\u001b[0m \u001b[1;32mfrom\u001b[0m \u001b[0mbs4\u001b[0m \u001b[1;32mimport\u001b[0m \u001b[0mBeautifulSoup\u001b[0m \u001b[1;32mas\u001b[0m \u001b[0mbsup\u001b[0m\u001b[1;33m\u001b[0m\u001b[1;33m\u001b[0m\u001b[0m\n\u001b[1;32m----> 7\u001b[1;33m \u001b[0melement_ls\u001b[0m\u001b[1;33m=\u001b[0m\u001b[0mbsup\u001b[0m\u001b[1;33m(\u001b[0m\u001b[0melement_ls\u001b[0m\u001b[1;33m,\u001b[0m\u001b[1;34m'lxml'\u001b[0m\u001b[1;33m)\u001b[0m\u001b[1;33m\u001b[0m\u001b[1;33m\u001b[0m\u001b[0m\n\u001b[0m\u001b[0;32m      8\u001b[0m \u001b[0melement_ls_item\u001b[0m\u001b[1;33m=\u001b[0m\u001b[0melement_ls\u001b[0m\u001b[1;33m.\u001b[0m\u001b[0mfind_all\u001b[0m\u001b[1;33m(\u001b[0m\u001b[1;34m'a'\u001b[0m\u001b[1;33m,\u001b[0m\u001b[1;33m{\u001b[0m\u001b[1;34m'class'\u001b[0m\u001b[1;33m:\u001b[0m\u001b[1;34m'ng-star-inserted'\u001b[0m\u001b[1;33m}\u001b[0m\u001b[1;33m)\u001b[0m\u001b[1;33m\u001b[0m\u001b[1;33m\u001b[0m\u001b[0m\n\u001b[0;32m      9\u001b[0m \u001b[0mprint\u001b[0m\u001b[1;33m(\u001b[0m\u001b[0melement_ls_item\u001b[0m\u001b[1;33m)\u001b[0m\u001b[1;33m\u001b[0m\u001b[1;33m\u001b[0m\u001b[0m\n",
      "\u001b[1;32m~\\Anaconda3\\lib\\site-packages\\bs4\\__init__.py\u001b[0m in \u001b[0;36m__init__\u001b[1;34m(self, markup, features, builder, parse_only, from_encoding, exclude_encodings, element_classes, **kwargs)\u001b[0m\n\u001b[0;32m    285\u001b[0m         \u001b[1;32mif\u001b[0m \u001b[0mhasattr\u001b[0m\u001b[1;33m(\u001b[0m\u001b[0mmarkup\u001b[0m\u001b[1;33m,\u001b[0m \u001b[1;34m'read'\u001b[0m\u001b[1;33m)\u001b[0m\u001b[1;33m:\u001b[0m        \u001b[1;31m# It's a file-type object.\u001b[0m\u001b[1;33m\u001b[0m\u001b[1;33m\u001b[0m\u001b[0m\n\u001b[0;32m    286\u001b[0m             \u001b[0mmarkup\u001b[0m \u001b[1;33m=\u001b[0m \u001b[0mmarkup\u001b[0m\u001b[1;33m.\u001b[0m\u001b[0mread\u001b[0m\u001b[1;33m(\u001b[0m\u001b[1;33m)\u001b[0m\u001b[1;33m\u001b[0m\u001b[1;33m\u001b[0m\u001b[0m\n\u001b[1;32m--> 287\u001b[1;33m         elif len(markup) <= 256 and (\n\u001b[0m\u001b[0;32m    288\u001b[0m                 \u001b[1;33m(\u001b[0m\u001b[0misinstance\u001b[0m\u001b[1;33m(\u001b[0m\u001b[0mmarkup\u001b[0m\u001b[1;33m,\u001b[0m \u001b[0mbytes\u001b[0m\u001b[1;33m)\u001b[0m \u001b[1;32mand\u001b[0m \u001b[1;32mnot\u001b[0m \u001b[1;34mb'<'\u001b[0m \u001b[1;32min\u001b[0m \u001b[0mmarkup\u001b[0m\u001b[1;33m)\u001b[0m\u001b[1;33m\u001b[0m\u001b[1;33m\u001b[0m\u001b[0m\n\u001b[0;32m    289\u001b[0m                 \u001b[1;32mor\u001b[0m \u001b[1;33m(\u001b[0m\u001b[0misinstance\u001b[0m\u001b[1;33m(\u001b[0m\u001b[0mmarkup\u001b[0m\u001b[1;33m,\u001b[0m \u001b[0mstr\u001b[0m\u001b[1;33m)\u001b[0m \u001b[1;32mand\u001b[0m \u001b[1;32mnot\u001b[0m \u001b[1;34m'<'\u001b[0m \u001b[1;32min\u001b[0m \u001b[0mmarkup\u001b[0m\u001b[1;33m)\u001b[0m\u001b[1;33m\u001b[0m\u001b[1;33m\u001b[0m\u001b[0m\n",
      "\u001b[1;31mTypeError\u001b[0m: object of type 'WebElement' has no len()"
     ]
    }
   ],
   "source": [
    "sec_ls_path='//*[@id=\"applicationContainer\"]/div/div[2]/div[1]/div[2]/app-navigation/div/app-navigation-results/div/div[1]/div[1]'\n",
    "element_ls=driver.execute_script(\"return document.documentElement.outerHTML\")\n",
    "# first_result = wait.until(presence_of_element_located((By.XPATH, sec_ls_path)))\n",
    "element_ls=driver.find_element_by_xpath('//*[@id=\"applicationContainer\"]/div/div[2]/div[1]/div[2]/app-search/div/div[2]/app-search-results/div/div[3]')\n",
    "print(element_ls)\n",
    "from bs4 import BeautifulSoup as bsup\n",
    "element_ls=bsup(element_ls,'lxml')\n",
    "element_ls_item=element_ls.find_all('a',{'class':'ng-star-inserted'})\n",
    "print(element_ls_item)"
   ]
  },
  {
   "cell_type": "code",
   "execution_count": 100,
   "metadata": {},
   "outputs": [],
   "source": [
    "element0=driver.find_element_by_xpath(\n",
    "    '//*[@id=\"applicationContainer\"]/div/div[2]/div[1]/div[2]/app-search/div/div[2]/app-search-results/div/div[3]/a[20]')"
   ]
  },
  {
   "cell_type": "code",
   "execution_count": 103,
   "metadata": {},
   "outputs": [
    {
     "data": {
      "text/plain": [
       "<selenium.webdriver.remote.webelement.WebElement (session=\"ef3e2eb2b8e4aeddb0208f89ddf83b2a\", element=\"63dafa56-a10f-474f-95d2-e99f561e1181\")>"
      ]
     },
     "execution_count": 103,
     "metadata": {},
     "output_type": "execute_result"
    }
   ],
   "source": [
    "element0"
   ]
  },
  {
   "cell_type": "code",
   "execution_count": 48,
   "metadata": {},
   "outputs": [],
   "source": [
    "element0.click()"
   ]
  },
  {
   "cell_type": "code",
   "execution_count": 308,
   "metadata": {},
   "outputs": [],
   "source": [
    "# html1=driver.find_element_by_tag_name(\"div\")"
   ]
  },
  {
   "cell_type": "code",
   "execution_count": null,
   "metadata": {},
   "outputs": [],
   "source": []
  },
  {
   "cell_type": "code",
   "execution_count": 309,
   "metadata": {},
   "outputs": [],
   "source": [
    "# html=driver.execute_script(\"return document.documentElement.outerHTML\")"
   ]
  },
  {
   "cell_type": "code",
   "execution_count": 310,
   "metadata": {},
   "outputs": [],
   "source": [
    "# html1=driver.find_element_by_tag_name(\"div\")"
   ]
  },
  {
   "cell_type": "code",
   "execution_count": 311,
   "metadata": {},
   "outputs": [],
   "source": [
    "# html=bsup(html,'lxml')\n",
    "# html"
   ]
  },
  {
   "cell_type": "code",
   "execution_count": 312,
   "metadata": {},
   "outputs": [],
   "source": [
    "# html1=bsup(html1,'lxml')\n",
    "# html1"
   ]
  },
  {
   "cell_type": "code",
   "execution_count": 313,
   "metadata": {},
   "outputs": [],
   "source": [
    "# taken2='https://partscatalog.deere.com/jdrc/search/type/model/term/43CM%20Walk-Behind%20Mowers%2C%204-Cycle%20-%20PC4253'\n",
    "# 'class=\"linkList ng-star-inserted\"'"
   ]
  },
  {
   "cell_type": "code",
   "execution_count": 314,
   "metadata": {},
   "outputs": [],
   "source": [
    "import requests"
   ]
  },
  {
   "cell_type": "code",
   "execution_count": 315,
   "metadata": {},
   "outputs": [],
   "source": [
    "# html.find_all('a',{'class':'ng-star-inserted'})"
   ]
  },
  {
   "cell_type": "code",
   "execution_count": 316,
   "metadata": {},
   "outputs": [],
   "source": [
    "# taken2='https://partscatalog.deere.com/jdrc/search/type/model/term/43CM%20Walk-Behind%20Mowers%2C%204-Cycle%20-%20PC4253'\n",
    "\n",
    "# for i in html.find_all('span',{'class':'text-muted secondLine'}):\n",
    "#     if 'Tractor' in i.text or 'Lawn Tractor'in i.text:\n",
    "#         i=i.text\n",
    "#         print(i)\n",
    "#         i=i.replace(' ','%20').replace(',','')\n",
    "#         taken0=f'https://partscatalog.deere.com/jdrc/search/type/model/term/{i}'\n",
    "#         print(taken0)\n",
    "#         taken2=f'https://partscatalog.deere.com/jdrc/search/type/model/term/43CM%20Walk-Behind%20Mowers%2C%204-Cycle%20-%20PC4253'\n"
   ]
  },
  {
   "cell_type": "code",
   "execution_count": 317,
   "metadata": {},
   "outputs": [],
   "source": [
    "# html.find_all('div _ngcontent-c21',{'class':'textContainer textContainerNoPictorial labelPadding'})"
   ]
  },
  {
   "cell_type": "code",
   "execution_count": 318,
   "metadata": {},
   "outputs": [],
   "source": [
    "# html.find_all('div')"
   ]
  },
  {
   "cell_type": "code",
   "execution_count": 3,
   "metadata": {},
   "outputs": [],
   "source": [
    "driver.get('https://partscatalog.deere.com/jdrc/navigation/equipment/68481')"
   ]
  },
  {
   "cell_type": "code",
   "execution_count": 49,
   "metadata": {},
   "outputs": [],
   "source": [
    "element1 = driver.find_element_by_xpath(\n",
    "    '//*[@id=\"applicationContainer\"]/div/div[2]/div[1]/div[2]/app-navigation/div/app-navigation-results/div/div[1]/div[1]/a[2]')"
   ]
  },
  {
   "cell_type": "code",
   "execution_count": 50,
   "metadata": {},
   "outputs": [],
   "source": [
    "element1.click()"
   ]
  },
  {
   "cell_type": "code",
   "execution_count": 51,
   "metadata": {},
   "outputs": [],
   "source": [
    "element1=driver.execute_script(\"return document.documentElement.outerHTML\")"
   ]
  },
  {
   "cell_type": "code",
   "execution_count": 52,
   "metadata": {},
   "outputs": [],
   "source": [
    "from bs4 import BeautifulSoup as bsup\n",
    "element1_html=bsup(element1,'lxml')\n",
    "element1_html_item=element1_html.find_all('div',{'class':'row partresultsection widthLimit ng-star-inserted'})\n"
   ]
  },
  {
   "cell_type": "code",
   "execution_count": 53,
   "metadata": {},
   "outputs": [
    {
     "data": {
      "text/plain": [
       "25"
      ]
     },
     "execution_count": 53,
     "metadata": {},
     "output_type": "execute_result"
    }
   ],
   "source": [
    "len(element1_html_item)"
   ]
  },
  {
   "cell_type": "code",
   "execution_count": 54,
   "metadata": {},
   "outputs": [
    {
     "name": "stdout",
     "output_type": "stream",
     "text": [
      "1 - PANPart Number........Qty Req1Serial No.______-45000Remarks(ORDER AM100163) (SUB FOR AM32456, AM33245 AND AM37480)\n",
      "2 - PADPart Number........Qty Req1Serial No.______-45000Remarks(ORDER AM100163) (SUB FOR AM32454, AM33245 AND AM37480)\n",
      "3 - ISOLATORPart NumberM44391Qty Req1Serial No.______-45000Remarks(3.048 M) 10 FT.\n",
      "4 - SPRINGPart NumberM41544Qty Req2info_outlineThis part has been substituted. View Details or add to cart to see substitute part information.\n",
      "5 - WASHERPart Number24H1305Qty Req4Serial No.______-45000Remarks13/32\" X 13/16\" X 0.065\"\n",
      "6 - LOCK WASHERPart Number12H304Qty Req4Serial No.______-45000Remarks3/8\"\n",
      "7 - NUTPart Number14H1076Qty Req4Serial No.______-45000Remarks3/8\"\n",
      "8 - CAP SCREWPart Number19H1731Qty Req4Remarks3/8\" X 1\"\n",
      "8 - NUTPart Number14H1076Qty Req4Remarks3/8\"\n",
      "8 - LOCK WASHERPart Number12H304Qty Req4Remarks3/8\"\n",
      "9 - CAP SCREWPart Number19H1936Qty Req2Remarks3/8\" X 3/4\"\n",
      "9 - NUTPart Number14H1076Qty Req2Remarks3/8\"\n",
      "9 - LOCK WASHERPart Number12H304Qty Req2Remarks3/8\"\n",
      "10 - WASHERPart Number24H1308Qty Req2Remarks13/32\" X 1\" X 0.134\"\n",
      "11 - FENDERPart NumberAM31908Qty Req1Remarks(NO LONGER AVAILABLE)\n",
      "12 - SEATPart NumberAM102953Qty Req1Remarks(SUB FOR AM34065, AM37580, AM37783, AM38671, AM39671 AND AM103153) (DELUXE HIGH BACK) (EXTRA EQUIPMENT)View Alternative Parts\n",
      "13 - LOCK WASHERPart Number12H304Qty Req4Remarks3/8\"\n",
      "14 - CAP SCREWPart Number19H1936Qty Req4Remarks3/8\" X 3/4\"\n",
      "15 - SCREWPart Number37H108Qty Req2Remarks3/8\" X 5/8\"\n",
      "16A - SEATPart Number........Qty Req1Serial No.45001-______Remarks(ORDER AM100163) (SUB FOR AM33245, AM36866 AND AM37480)\n",
      "16B - SEATPart NumberAM100163Qty Req1\n",
      "17 - CAP SCREWPart Number19H1900Qty Req4Serial No.45001-______Remarks5/16\" X 3/4\"\n",
      "17 - LOCK WASHERPart Number12H303Qty Req4Serial No.45001-______Remarks5/16\"\n",
      "17 - WASHERPart Number24M7207Qty Req4Serial No.45001-______Remarks8.400 X 24 X 2 MM\n",
      "18 - CLIPPart NumberM47182Qty Req1\n"
     ]
    }
   ],
   "source": [
    "element1_html.find_all('div',{'class':'col-xl-6 col-lg-6 col-xs-6  col-sm-6 col-md-5 text-muted partNo'})\n",
    "# element1_html_row=element1_html.find_all('div',{'class':'row'})\n",
    "# for i in element1_html_row:\n",
    "#     print(i)\n",
    "for e in element1_html_item:\n",
    "    print(e.div.text)"
   ]
  },
  {
   "cell_type": "code",
   "execution_count": 55,
   "metadata": {},
   "outputs": [],
   "source": [
    "import pprint\n",
    "import re"
   ]
  },
  {
   "cell_type": "code",
   "execution_count": 56,
   "metadata": {
    "scrolled": false
   },
   "outputs": [
    {
     "name": "stdout",
     "output_type": "stream",
     "text": [
      "part name: FENDER\n",
      "part number: AM31908,\n",
      "quantity1,\n",
      "Remarks:(NO LONGER AVAILABLE)\n"
     ]
    }
   ],
   "source": [
    "for i in element1_html_item:\n",
    "    x=re.split(\"\\d+ - |Part Number|Qty Req|Serial No.|Remarks\",i.div.text)\n",
    "#     pprint.pprint(x)\n",
    "    \n",
    "    i1=i.find_all('a',{'class':'partDesc disabledPartDesc'})\n",
    "    i2=i.find_all('a',{'class':'partDesc'})\n",
    "    if bool(i1)!=False:\n",
    "         i=i1\n",
    "    else:\n",
    "        i=i2\n",
    "#     for j in i:\n",
    "#         print(i)\n",
    "#         print(j.text)\n",
    "    \n",
    "    \n",
    "        \n",
    "    if 'NO LONGER AVAILABLE' in x[-1]:\n",
    "        print(f'part name: {x[1]}\\npart number: {x[2]},\\nquantity{x[3]},\\nRemarks:{x[4]}')"
   ]
  },
  {
   "cell_type": "markdown",
   "metadata": {},
   "source": [
    "### presentable project"
   ]
  },
  {
   "cell_type": "code",
   "execution_count": 82,
   "metadata": {},
   "outputs": [
    {
     "name": "stdout",
     "output_type": "stream",
     "text": [
      "please enter part no:70\n"
     ]
    }
   ],
   "source": [
    "from selenium import webdriver\n",
    "from selenium.webdriver.common.by import By\n",
    "from selenium.webdriver.common.keys import Keys\n",
    "from selenium.webdriver.support.ui import WebDriverWait\n",
    "from selenium.webdriver.support.expected_conditions import presence_of_element_located\n",
    "\n",
    "import lxml\n",
    "chromedriver=r\"C:\\Users\\taimo\\Desktop\\datascience_upwork\\chromedriver_win32\\chromedriver.exe\"\n",
    "\n",
    "driver=webdriver.Chrome(executable_path=chromedriver)\n",
    "wait = WebDriverWait(driver, 10)\n",
    "\n",
    "\n",
    "part=input('please enter part no:')"
   ]
  },
  {
   "cell_type": "code",
   "execution_count": 83,
   "metadata": {},
   "outputs": [
    {
     "name": "stdout",
     "output_type": "stream",
     "text": [
      "part name: FENDER\n",
      "part number: AM31908,\n",
      "quantity1,\n",
      "Remarks:(NO LONGER AVAILABLE)\n"
     ]
    }
   ],
   "source": [
    "######link to search model 70\n",
    "driver.get('https://www.deere.com/en/parts-and-service/parts/')\n",
    "########\n",
    "# fcx='//*[@id=\"SBSsearchInput\"]'\n",
    "\n",
    "# first_result = wait.until(presence_of_element_located((By.XPATH, \n",
    "#                                                       fcx)))\n",
    "# ########\n",
    "# driver.find_element_by_xpath(fcx).send_keys('70'+ Keys.RETURN)\n",
    "driver.get(f'https://partscatalog.deere.com/jdrc/search/type/model/term/{part}')\n",
    "#####################------------------------\n",
    "sec_ls_path='//*[@id=\"applicationContainer\"]/div/div[2]/div[1]/div[2]/app-navigation/div/app-navigation-results/div/div[1]/div[1]'\n",
    "\n",
    "first_result = wait.until(presence_of_element_located((By.XPATH, sec_ls_path)))\n",
    "element_ls=driver.find_element_by_xpath(sec_ls_path)\n",
    "from bs4 import BeautifulSoup as bsup\n",
    "element_ls=bsup(element1,'lxml')\n",
    "element_ls_item=element_ls.find_all('a',{'class':'ng-star-inserted'})\n",
    "#################################\n",
    "######click on for\n",
    "first_result = wait.until(presence_of_element_located((By.XPATH, \n",
    "        '//*[@id=\"applicationContainer\"]/div/div[2]/div[1]/div[2]/app-search/div/div[2]/app-search-results/div/div[3]/a[20]')))\n",
    "\n",
    "\n",
    "\n",
    "\n",
    "###############\n",
    "element0=driver.find_element_by_xpath(\n",
    "    '//*[@id=\"applicationContainer\"]/div/div[2]/div[1]/div[2]/app-search/div/div[2]/app-search-results/div/div[3]/a[20]')\n",
    "element0.click()\n",
    "\n",
    "\n",
    "\n",
    "##########\n",
    "first_result = wait.until(presence_of_element_located((By.XPATH,\n",
    "'//*[@id=\"applicationContainer\"]/div/div[2]/div[1]/div[2]/app-navigation/div/app-navigation-results/div/div[1]/div[1]/a[2]')))\n",
    "\n",
    "\n",
    "##########\n",
    "\n",
    "\n",
    "element1 = driver.find_element_by_xpath(\n",
    "    '//*[@id=\"applicationContainer\"]/div/div[2]/div[1]/div[2]/app-navigation/div/app-navigation-results/div/div[1]/div[1]/a[2]')\n",
    "\n",
    "element1.click()\n",
    "##########\n",
    "first_result = wait.until(presence_of_element_located((By.XPATH,\n",
    "                    '//*[@id=\"applicationContainer\"]/div/div[2]/div[1]/div[2]/app-sidebyside/div/div/div[2]/div[3]')))\n",
    "\n",
    "\n",
    "\n",
    "###################\n",
    "\n",
    "element1=driver.execute_script(\"return document.documentElement.outerHTML\")\n",
    "\n",
    "#####################\n",
    "\n",
    "from bs4 import BeautifulSoup as bsup\n",
    "element1_html=bsup(element1,'lxml')\n",
    "element1_html_item=element1_html.find_all('div',{'class':'row partresultsection widthLimit ng-star-inserted'})\n",
    "#################################\n",
    "# len(element1_html_item)\n",
    "####################################\n",
    "# element1_html.find_all('div',{'class':'col-xl-6 col-lg-6 col-xs-6  col-sm-6 col-md-5 text-muted partNo'})\n",
    "# element1_html_row=element1_html.find_all('div',{'class':'row'})\n",
    "# for i in element1_html_row:\n",
    "#     print(i)\n",
    "# for e in element1_html_item:\n",
    "#     print(e.div.text)\n",
    "# print(element1_html_item)\n",
    "##################################################\n",
    "import pprint\n",
    "import re\n",
    "    \n",
    "for i in element1_html_item:\n",
    "    x=re.split(\"\\d+ - |Part Number|Qty Req|Serial No.|Remarks\",i.div.text)\n",
    "#     pprint.pprint(x)\n",
    "    \n",
    "    i1=i.find_all('a',{'class':'partDesc disabledPartDesc'})\n",
    "    i2=i.find_all('a',{'class':'partDesc'})\n",
    "    if bool(i1)!=False:\n",
    "         i=i1\n",
    "    else:\n",
    "        i=i2\n",
    "#     for j in i:\n",
    "#         print(i)\n",
    "#         print(j.text)\n",
    "    \n",
    "    \n",
    "        \n",
    "    if 'NO LONGER AVAILABLE' in x[-1]:\n",
    "        print(f'part name: {x[1]}\\npart number: {x[2]},\\nquantity{x[3]},\\nRemarks:{x[4]}')"
   ]
  },
  {
   "cell_type": "markdown",
   "metadata": {},
   "source": [
    "###  "
   ]
  },
  {
   "cell_type": "markdown",
   "metadata": {},
   "source": [
    "###  "
   ]
  },
  {
   "cell_type": "markdown",
   "metadata": {},
   "source": [
    "###  "
   ]
  },
  {
   "cell_type": "markdown",
   "metadata": {},
   "source": [
    "###  "
   ]
  },
  {
   "cell_type": "code",
   "execution_count": 89,
   "metadata": {},
   "outputs": [],
   "source": [
    "#FUNCTION CREATED\n",
    "def johndeer():\n",
    "    from selenium import webdriver\n",
    "    from selenium.webdriver.common.by import By\n",
    "    from selenium.webdriver.common.keys import Keys\n",
    "    from selenium.webdriver.support.ui import WebDriverWait\n",
    "    from selenium.webdriver.support.expected_conditions import presence_of_element_located\n",
    "\n",
    "    import lxml\n",
    "    chromedriver=r\"C:\\Users\\taimo\\Desktop\\datascience_upwork\\chromedriver_win32\\chromedriver.exe\"\n",
    "\n",
    "    driver=webdriver.Chrome(executable_path=chromedriver)\n",
    "    wait = WebDriverWait(driver, 10)\n",
    "\n",
    "\n",
    "    part=input('please enter part no:')\n",
    "    ######link to search model 70\n",
    "    driver.get('https://www.deere.com/en/parts-and-service/parts/')\n",
    "    ########\n",
    "\n",
    "    driver.get(f'https://partscatalog.deere.com/jdrc/search/type/model/term/{part}')\n",
    "\n",
    "    ######click on for\n",
    "    first_result = wait.until(presence_of_element_located((By.XPATH, \n",
    "            '//*[@id=\"applicationContainer\"]/div/div[2]/div[1]/div[2]/app-search/div/div[2]/app-search-results/div/div[3]/a[20]')))\n",
    "    ###############\n",
    "    element0=driver.find_element_by_xpath(\n",
    "        '//*[@id=\"applicationContainer\"]/div/div[2]/div[1]/div[2]/app-search/div/div[2]/app-search-results/div/div[3]/a[20]')\n",
    "    element0.click()\n",
    "\n",
    "\n",
    "\n",
    "    ##########\n",
    "    first_result = wait.until(presence_of_element_located((By.XPATH,\n",
    "    '//*[@id=\"applicationContainer\"]/div/div[2]/div[1]/div[2]/app-navigation/div/app-navigation-results/div/div[1]/div[1]/a[2]')))\n",
    "\n",
    "\n",
    "    ##########\n",
    "\n",
    "\n",
    "    element1 = driver.find_element_by_xpath(\n",
    "        '//*[@id=\"applicationContainer\"]/div/div[2]/div[1]/div[2]/app-navigation/div/app-navigation-results/div/div[1]/div[1]/a[2]')\n",
    "\n",
    "    element1.click()\n",
    "    ##########\n",
    "    first_result = wait.until(presence_of_element_located((By.XPATH,\n",
    "                        '//*[@id=\"applicationContainer\"]/div/div[2]/div[1]/div[2]/app-sidebyside/div/div/div[2]/div[3]')))\n",
    "\n",
    "\n",
    "\n",
    "    ###################\n",
    "\n",
    "    element1=driver.execute_script(\"return document.documentElement.outerHTML\")\n",
    "\n",
    "    #####################\n",
    "\n",
    "    from bs4 import BeautifulSoup as bsup\n",
    "    element1_html=bsup(element1,'lxml')\n",
    "    element1_html_item=element1_html.find_all('div',{'class':'row partresultsection widthLimit ng-star-inserted'})\n",
    "\n",
    "    ##################################################\n",
    "    import pprint\n",
    "    import re\n",
    "\n",
    "    for i in element1_html_item:\n",
    "        x=re.split(\"\\d+ - |Part Number|Qty Req|Serial No.|Remarks\",i.div.text)\n",
    "    #     pprint.pprint(x)\n",
    "\n",
    "        i1=i.find_all('a',{'class':'partDesc disabledPartDesc'})\n",
    "        i2=i.find_all('a',{'class':'partDesc'})\n",
    "        if bool(i1)!=False:\n",
    "             i=i1\n",
    "        else:\n",
    "            i=i2\n",
    "\n",
    "\n",
    "\n",
    "\n",
    "        if 'NO LONGER AVAILABLE' in x[-1]:\n",
    "            print(f'part name: {x[1]}\\npart number: {x[2]},\\nquantity{x[3]},\\nRemarks:{x[4]}')"
   ]
  },
  {
   "cell_type": "code",
   "execution_count": 90,
   "metadata": {},
   "outputs": [
    {
     "name": "stdout",
     "output_type": "stream",
     "text": [
      "please enter part no:70\n",
      "part name: FENDER\n",
      "part number: AM31908,\n",
      "quantity1,\n",
      "Remarks:(NO LONGER AVAILABLE)\n"
     ]
    }
   ],
   "source": [
    "johndeer()"
   ]
  },
  {
   "cell_type": "code",
   "execution_count": null,
   "metadata": {},
   "outputs": [],
   "source": []
  }
 ],
 "metadata": {
  "kernelspec": {
   "display_name": "Python 3",
   "language": "python",
   "name": "python3"
  },
  "language_info": {
   "codemirror_mode": {
    "name": "ipython",
    "version": 3
   },
   "file_extension": ".py",
   "mimetype": "text/x-python",
   "name": "python",
   "nbconvert_exporter": "python",
   "pygments_lexer": "ipython3",
   "version": "3.7.3"
  }
 },
 "nbformat": 4,
 "nbformat_minor": 2
}
