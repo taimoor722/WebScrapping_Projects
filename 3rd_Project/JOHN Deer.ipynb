{
 "cells": [
  {
   "cell_type": "code",
   "execution_count": 28,
   "metadata": {},
   "outputs": [],
   "source": [
    "import requests\n",
    "from bs4 import BeautifulSoup as bsup\n",
    "from selenium import webdriver\n",
    "import lxml\n",
    "chromedriver=r\"C:\\Users\\taimo\\Desktop\\datascience_upwork\\chromedriver_win32\\chromedriver.exe\"\n",
    "\n",
    "driver=webdriver.Chrome(executable_path=chromedriver)"
   ]
  },
  {
   "cell_type": "code",
   "execution_count": 71,
   "metadata": {},
   "outputs": [],
   "source": [
    "taken=driver.get('https://partscatalog.deere.com/jdrc/search/type/model/term/70')\n",
    "html=driver.execute_script(\"return document.documentElement.outerHTML\")\n",
    "html1=driver.find_elements_by_class_name('linkList ng-star-inserted')"
   ]
  },
  {
   "cell_type": "code",
   "execution_count": 74,
   "metadata": {},
   "outputs": [
    {
     "data": {
      "text/plain": [
       "<html lang=\"en\"><head>\n",
       "<meta charset=\"utf-8\"/>\n",
       "<title>John Deere Parts Catalog</title>\n",
       "<base href=\"/jdrc/\"/>\n",
       "<meta content=\"IE=Edge\" http-equiv=\"X-UA-Compatible\"/>\n",
       "<meta content=\"text/html; charset=utf-8\" http-equiv=\"content-type\"/>\n",
       "<meta content=\"no-cache, no-store, must-revalidate\" http-equiv=\"cache-control\"/>\n",
       "<meta content=\"no-cache\" http-equiv=\"pragma\"/>\n",
       "<meta content=\"0\" http-equiv=\"expires\"/>\n",
       "<meta content=\"yes\" name=\"mobile-web-app-capable\"/>\n",
       "<meta content=\"yes\" name=\"apple-mobile-web-app-capable\"/>\n",
       "<meta content=\"black\" name=\"apple-mobile-web-app-status-bar-style\"/>\n",
       "<meta content=\"width=device-width, initial-scale=1, maximum-scale=1\" name=\"viewport\"/>\n",
       "<meta content=\"notranslate\" name=\"google\"/>\n",
       "<meta content=\"index\" name=\"robots\"/>\n",
       "<meta content=\"Find parts &amp; diagrams for your John Deere equipment. Search our parts catalog, order parts online or contact your John Deere dealer.\" name=\"description\"/>\n",
       "<meta content=\"tractor, truck, gator, harvester, scraper, aerator, mower, landscape, rake, tedder, seeder, excavator, hammer, dozer, attachments, sprayer, disk, tillage, merger, fork, bucket, bunker, corn head, generator, grapple, forage, x300, x500, x700, backhoe, shredder, mulcher, rate controller, ztrak, planter, powertech, combine\" name=\"keywords\"/>\n",
       "<link href=\"https://fonts.googleapis.com/icon?family=Material+Icons\" rel=\"stylesheet\"/>\n",
       "<link href=\"favicon.ico\" rel=\"shortcut icon\" type=\"image/x-icon\"/>\n",
       "<!-- <link rel=\"icon\"  href=\"assets/icon/deere_logo.ico\">-->\n",
       "<style>\n",
       "  .ajax-loader {\n",
       "    position: absolute;\n",
       "    left: 50%;\n",
       "    top: 30%;\n",
       "    margin-left: -125px;\n",
       "    margin-top: -32px;\n",
       "    display: block;\n",
       "    z-index: 99999999999999;\n",
       "  }\n",
       "  </style>\n",
       "<script>\n",
       "    var appVersion = \"JDRC-6.2.1-R\";\n",
       "    window.appEventData = window.appEventData || [] ;\n",
       "  </script>\n",
       "<link href=\"styles.417ff3a01ecc81b38d84.css\" rel=\"stylesheet\"/></head>\n",
       "<body>\n",
       "<jdrc-app>\n",
       "<img class=\"ajax-loader\" src=\"assets/images/loading.large.gif\"/>\n",
       "</jdrc-app>\n",
       "<script src=\"runtime.26209474bfa8dc87a77c.js\" type=\"text/javascript\"></script><script src=\"polyfills.a43d252e2ba23d57ec56.js\" type=\"text/javascript\"></script><script src=\"vendor.8edf1784fafb535f1a55.js\" type=\"text/javascript\"></script><script src=\"main.65367091dda797bdbc3c.js\" type=\"text/javascript\"></script>\n",
       "</body></html>"
      ]
     },
     "execution_count": 74,
     "metadata": {},
     "output_type": "execute_result"
    }
   ],
   "source": [
    "html=bsup(html,'lxml')\n",
    "html"
   ]
  },
  {
   "cell_type": "code",
   "execution_count": 76,
   "metadata": {},
   "outputs": [
    {
     "data": {
      "text/plain": [
       "[]"
      ]
     },
     "execution_count": 76,
     "metadata": {},
     "output_type": "execute_result"
    }
   ],
   "source": [
    "#html1=bsup(html1,'lxml')\n",
    "html1"
   ]
  },
  {
   "cell_type": "code",
   "execution_count": 80,
   "metadata": {},
   "outputs": [
    {
     "ename": "TypeError",
     "evalue": "object of type 'NoneType' has no len()",
     "output_type": "error",
     "traceback": [
      "\u001b[1;31m---------------------------------------------------------------------------\u001b[0m",
      "\u001b[1;31mTypeError\u001b[0m                                 Traceback (most recent call last)",
      "\u001b[1;32m<ipython-input-80-cb5d8535e2c8>\u001b[0m in \u001b[0;36m<module>\u001b[1;34m\u001b[0m\n\u001b[1;32m----> 1\u001b[1;33m \u001b[0mbsup\u001b[0m\u001b[1;33m(\u001b[0m\u001b[0mtaken\u001b[0m\u001b[1;33m)\u001b[0m\u001b[1;33m\u001b[0m\u001b[1;33m\u001b[0m\u001b[0m\n\u001b[0m",
      "\u001b[1;32m~\\Anaconda3\\lib\\site-packages\\bs4\\__init__.py\u001b[0m in \u001b[0;36m__init__\u001b[1;34m(self, markup, features, builder, parse_only, from_encoding, exclude_encodings, element_classes, **kwargs)\u001b[0m\n\u001b[0;32m    285\u001b[0m         \u001b[1;32mif\u001b[0m \u001b[0mhasattr\u001b[0m\u001b[1;33m(\u001b[0m\u001b[0mmarkup\u001b[0m\u001b[1;33m,\u001b[0m \u001b[1;34m'read'\u001b[0m\u001b[1;33m)\u001b[0m\u001b[1;33m:\u001b[0m        \u001b[1;31m# It's a file-type object.\u001b[0m\u001b[1;33m\u001b[0m\u001b[1;33m\u001b[0m\u001b[0m\n\u001b[0;32m    286\u001b[0m             \u001b[0mmarkup\u001b[0m \u001b[1;33m=\u001b[0m \u001b[0mmarkup\u001b[0m\u001b[1;33m.\u001b[0m\u001b[0mread\u001b[0m\u001b[1;33m(\u001b[0m\u001b[1;33m)\u001b[0m\u001b[1;33m\u001b[0m\u001b[1;33m\u001b[0m\u001b[0m\n\u001b[1;32m--> 287\u001b[1;33m         elif len(markup) <= 256 and (\n\u001b[0m\u001b[0;32m    288\u001b[0m                 \u001b[1;33m(\u001b[0m\u001b[0misinstance\u001b[0m\u001b[1;33m(\u001b[0m\u001b[0mmarkup\u001b[0m\u001b[1;33m,\u001b[0m \u001b[0mbytes\u001b[0m\u001b[1;33m)\u001b[0m \u001b[1;32mand\u001b[0m \u001b[1;32mnot\u001b[0m \u001b[1;34mb'<'\u001b[0m \u001b[1;32min\u001b[0m \u001b[0mmarkup\u001b[0m\u001b[1;33m)\u001b[0m\u001b[1;33m\u001b[0m\u001b[1;33m\u001b[0m\u001b[0m\n\u001b[0;32m    289\u001b[0m                 \u001b[1;32mor\u001b[0m \u001b[1;33m(\u001b[0m\u001b[0misinstance\u001b[0m\u001b[1;33m(\u001b[0m\u001b[0mmarkup\u001b[0m\u001b[1;33m,\u001b[0m \u001b[0mstr\u001b[0m\u001b[1;33m)\u001b[0m \u001b[1;32mand\u001b[0m \u001b[1;32mnot\u001b[0m \u001b[1;34m'<'\u001b[0m \u001b[1;32min\u001b[0m \u001b[0mmarkup\u001b[0m\u001b[1;33m)\u001b[0m\u001b[1;33m\u001b[0m\u001b[1;33m\u001b[0m\u001b[0m\n",
      "\u001b[1;31mTypeError\u001b[0m: object of type 'NoneType' has no len()"
     ]
    }
   ],
   "source": []
  },
  {
   "cell_type": "code",
   "execution_count": null,
   "metadata": {},
   "outputs": [],
   "source": []
  }
 ],
 "metadata": {
  "kernelspec": {
   "display_name": "Python 3",
   "language": "python",
   "name": "python3"
  },
  "language_info": {
   "codemirror_mode": {
    "name": "ipython",
    "version": 3
   },
   "file_extension": ".py",
   "mimetype": "text/x-python",
   "name": "python",
   "nbconvert_exporter": "python",
   "pygments_lexer": "ipython3",
   "version": "3.7.3"
  }
 },
 "nbformat": 4,
 "nbformat_minor": 2
}
