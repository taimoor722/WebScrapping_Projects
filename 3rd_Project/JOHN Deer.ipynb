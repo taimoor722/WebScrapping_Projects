{
 "cells": [
  {
   "cell_type": "markdown",
   "metadata": {},
   "source": [
    "[JOB explained in video ](https://www.youtube.com/watch?v=W4Q3CZrD4Yg) "
   ]
  },
  {
   "cell_type": "code",
   "execution_count": 26,
   "metadata": {},
   "outputs": [],
   "source": [
    "from selenium import webdriver\n",
    "from selenium.webdriver.common.by import By\n",
    "from selenium.webdriver.common.keys import Keys\n",
    "from selenium.webdriver.support.ui import WebDriverWait\n",
    "from selenium.webdriver.support.expected_conditions import presence_of_element_located\n",
    "\n",
    "#This example requires Selenium WebDriver 3.13 or newer\n",
    "chromedriver=r\"C:\\Users\\taimo\\Desktop\\datascience_upwork\\chromedriver_win32\\chromedriver.exe\"\n",
    "\n",
    "driver=webdriver.Chrome(executable_path=chromedriver)\n",
    "# wait = WebDriverWait(driver, 10)\n",
    "# driver.get(\"https://google.com/ncr\")\n",
    "# driver.find_element_by_name(\"q\").send_keys(\"cheese\" + Keys.RETURN)\n",
    "# first_result = wait.until(presence_of_element_located((By.CSS_SELECTOR, \"h3>div\")))\n",
    "# print(first_result.get_attribute(\"textContent\"))"
   ]
  },
  {
   "cell_type": "code",
   "execution_count": 27,
   "metadata": {},
   "outputs": [],
   "source": [
    "# fc=class=\"ng-tns-c29-23 ui-inputtext ui-widget ui-state-default ui-corner-all ui-autocomplete-input ng-star-inserted\"\n",
    "# driver.find_element_by_class_name(fc).send_keys('70')"
   ]
  },
  {
   "cell_type": "code",
   "execution_count": 28,
   "metadata": {},
   "outputs": [],
   "source": [
    "import requests\n",
    "from bs4 import BeautifulSoup as bsup\n",
    "from selenium import webdriver\n",
    "from selenium.webdriver.support.ui import WebDriverWait\n",
    "from selenium.webdriver.support.expected_conditions import presence_of_element_located\n",
    "\n",
    "#     driver.find_element_by_name(\"q\").send_keys(\"cheese\" + Keys.RETURN)\n",
    "#     first_result = wait.until(presence_of_element_located((By.CSS_SELECTOR, \"h3>div\")))\n",
    "#     print(first_result.get_attribute(\"textContent\"))\n",
    "    \n",
    "    \n",
    "    \n",
    "import lxml\n",
    "chromedriver=r\"C:\\Users\\taimo\\Desktop\\datascience_upwork\\chromedriver_win32\\chromedriver.exe\"\n",
    "\n",
    "driver=webdriver.Chrome(executable_path=chromedriver)\n",
    "wait = WebDriverWait(driver, 10)\n",
    "# placeholder=\"PIN/Serial Number, Model\"\n",
    "driver.find_element_by_partial_link_text\n",
    "# driver.get('https://www.deere.com/en/parts-and-service/parts/')\n",
    "# driver.get('https://partscatalog.deere.com/jdrc/search/type/model/term/70')\n",
    "fc=\"ng-tns-c29-23 ui-inputtext ui-widget ui-state-default ui-corner-all ui-autocomplete-input ng-star-inserted\"\n",
    "# driver.find_element_by_class_name(fc).send_keys('70')\n",
    "fcx='//*[@id=\"SBSsearchInput\"]'"
   ]
  },
  {
   "cell_type": "code",
   "execution_count": 5,
   "metadata": {},
   "outputs": [],
   "source": [
    "# driver.find_element_by_xpath(fcx).send_keys('70'+ Keys.RETURN)"
   ]
  },
  {
   "cell_type": "code",
   "execution_count": 29,
   "metadata": {},
   "outputs": [],
   "source": [
    "driver.get('https://partscatalog.deere.com/jdrc/search/type/model/term/70')"
   ]
  },
  {
   "cell_type": "markdown",
   "metadata": {},
   "source": [
    "https://www.guru99.com/xpath-selenium.html"
   ]
  },
  {
   "cell_type": "code",
   "execution_count": 7,
   "metadata": {},
   "outputs": [],
   "source": [
    "# resultxpath='//*[@id=\"applicationContainer\"]/div/div[2]/div[1]/div[2]/app-search/div/div[2]/app-search-results/div/div[3]'\n",
    "# cls=driver.find_element_by_xpath(resultxpath)\n",
    "# cls=bsup(cls.parent.page_source,'html.parser')\n",
    "# cls=cls.find_all('div',{\"class\":\"linkList ng-star-inserted\"})\n",
    "# length=len(cls[0].find_all('a'))\n",
    "# cls[0].find_all('a')[1]\n",
    "# axpath='//*[@id=\"applicationContainer\"]/div/div[2]/div[1]/div[2]/app-search/div/div[2]/app-search-results/div/div[3]/a[1]'\n",
    "# # driver.find_element(cls[0].find_all('a')[0])"
   ]
  },
  {
   "cell_type": "code",
   "execution_count": 8,
   "metadata": {},
   "outputs": [],
   "source": [
    "# cls[0].find_all('a')[]\n"
   ]
  },
  {
   "cell_type": "code",
   "execution_count": 9,
   "metadata": {},
   "outputs": [],
   "source": [
    "# driver.find_element(cls[0].find_all('a')[0])"
   ]
  },
  {
   "cell_type": "code",
   "execution_count": 31,
   "metadata": {},
   "outputs": [
    {
     "name": "stdout",
     "output_type": "stream",
     "text": [
      "<selenium.webdriver.remote.webelement.WebElement (session=\"dc09272eee1ef6b14c30e2e0efcfe5ed\", element=\"7826a7e5-fb22-4116-ac51-388666059bae\")>\n"
     ]
    },
    {
     "ename": "TypeError",
     "evalue": "object of type 'WebElement' has no len()",
     "output_type": "error",
     "traceback": [
      "\u001b[1;31m---------------------------------------------------------------------------\u001b[0m",
      "\u001b[1;31mTypeError\u001b[0m                                 Traceback (most recent call last)",
      "\u001b[1;32m<ipython-input-31-39478772a943>\u001b[0m in \u001b[0;36m<module>\u001b[1;34m\u001b[0m\n\u001b[0;32m      5\u001b[0m \u001b[0mprint\u001b[0m\u001b[1;33m(\u001b[0m\u001b[0melement_ls\u001b[0m\u001b[1;33m)\u001b[0m\u001b[1;33m\u001b[0m\u001b[1;33m\u001b[0m\u001b[0m\n\u001b[0;32m      6\u001b[0m \u001b[1;32mfrom\u001b[0m \u001b[0mbs4\u001b[0m \u001b[1;32mimport\u001b[0m \u001b[0mBeautifulSoup\u001b[0m \u001b[1;32mas\u001b[0m \u001b[0mbsup\u001b[0m\u001b[1;33m\u001b[0m\u001b[1;33m\u001b[0m\u001b[0m\n\u001b[1;32m----> 7\u001b[1;33m \u001b[0melement_ls\u001b[0m\u001b[1;33m=\u001b[0m\u001b[0mbsup\u001b[0m\u001b[1;33m(\u001b[0m\u001b[0melement_ls\u001b[0m\u001b[1;33m,\u001b[0m\u001b[1;34m'lxml'\u001b[0m\u001b[1;33m)\u001b[0m\u001b[1;33m\u001b[0m\u001b[1;33m\u001b[0m\u001b[0m\n\u001b[0m\u001b[0;32m      8\u001b[0m \u001b[0melement_ls_item\u001b[0m\u001b[1;33m=\u001b[0m\u001b[0melement_ls\u001b[0m\u001b[1;33m.\u001b[0m\u001b[0mfind_all\u001b[0m\u001b[1;33m(\u001b[0m\u001b[1;34m'a'\u001b[0m\u001b[1;33m,\u001b[0m\u001b[1;33m{\u001b[0m\u001b[1;34m'class'\u001b[0m\u001b[1;33m:\u001b[0m\u001b[1;34m'ng-star-inserted'\u001b[0m\u001b[1;33m}\u001b[0m\u001b[1;33m)\u001b[0m\u001b[1;33m\u001b[0m\u001b[1;33m\u001b[0m\u001b[0m\n\u001b[0;32m      9\u001b[0m \u001b[0mprint\u001b[0m\u001b[1;33m(\u001b[0m\u001b[0melement_ls_item\u001b[0m\u001b[1;33m)\u001b[0m\u001b[1;33m\u001b[0m\u001b[1;33m\u001b[0m\u001b[0m\n",
      "\u001b[1;32m~\\Anaconda3\\lib\\site-packages\\bs4\\__init__.py\u001b[0m in \u001b[0;36m__init__\u001b[1;34m(self, markup, features, builder, parse_only, from_encoding, exclude_encodings, element_classes, **kwargs)\u001b[0m\n\u001b[0;32m    285\u001b[0m         \u001b[1;32mif\u001b[0m \u001b[0mhasattr\u001b[0m\u001b[1;33m(\u001b[0m\u001b[0mmarkup\u001b[0m\u001b[1;33m,\u001b[0m \u001b[1;34m'read'\u001b[0m\u001b[1;33m)\u001b[0m\u001b[1;33m:\u001b[0m        \u001b[1;31m# It's a file-type object.\u001b[0m\u001b[1;33m\u001b[0m\u001b[1;33m\u001b[0m\u001b[0m\n\u001b[0;32m    286\u001b[0m             \u001b[0mmarkup\u001b[0m \u001b[1;33m=\u001b[0m \u001b[0mmarkup\u001b[0m\u001b[1;33m.\u001b[0m\u001b[0mread\u001b[0m\u001b[1;33m(\u001b[0m\u001b[1;33m)\u001b[0m\u001b[1;33m\u001b[0m\u001b[1;33m\u001b[0m\u001b[0m\n\u001b[1;32m--> 287\u001b[1;33m         elif len(markup) <= 256 and (\n\u001b[0m\u001b[0;32m    288\u001b[0m                 \u001b[1;33m(\u001b[0m\u001b[0misinstance\u001b[0m\u001b[1;33m(\u001b[0m\u001b[0mmarkup\u001b[0m\u001b[1;33m,\u001b[0m \u001b[0mbytes\u001b[0m\u001b[1;33m)\u001b[0m \u001b[1;32mand\u001b[0m \u001b[1;32mnot\u001b[0m \u001b[1;34mb'<'\u001b[0m \u001b[1;32min\u001b[0m \u001b[0mmarkup\u001b[0m\u001b[1;33m)\u001b[0m\u001b[1;33m\u001b[0m\u001b[1;33m\u001b[0m\u001b[0m\n\u001b[0;32m    289\u001b[0m                 \u001b[1;32mor\u001b[0m \u001b[1;33m(\u001b[0m\u001b[0misinstance\u001b[0m\u001b[1;33m(\u001b[0m\u001b[0mmarkup\u001b[0m\u001b[1;33m,\u001b[0m \u001b[0mstr\u001b[0m\u001b[1;33m)\u001b[0m \u001b[1;32mand\u001b[0m \u001b[1;32mnot\u001b[0m \u001b[1;34m'<'\u001b[0m \u001b[1;32min\u001b[0m \u001b[0mmarkup\u001b[0m\u001b[1;33m)\u001b[0m\u001b[1;33m\u001b[0m\u001b[1;33m\u001b[0m\u001b[0m\n",
      "\u001b[1;31mTypeError\u001b[0m: object of type 'WebElement' has no len()"
     ]
    }
   ],
   "source": [
    "sec_ls_path='//*[@id=\"applicationContainer\"]/div/div[2]/div[1]/div[2]/app-navigation/div/app-navigation-results/div/div[1]/div[1]'\n",
    "element_ls=driver.execute_script(\"return document.documentElement.inner\")\n",
    "# first_result = wait.until(presence_of_element_located((By.XPATH, sec_ls_path)))\n",
    "element_ls=driver.find_element_by_xpath('//*[@id=\"applicationContainer\"]/div/div[2]/div[1]/div[2]/app-search/div/div[2]/app-search-results/div/div[3]')\n",
    "print(element_ls)\n",
    "from bs4 import BeautifulSoup as bsup\n",
    "element_ls=bsup(element_ls,'lxml')\n",
    "element_ls_item=element_ls.find_all('a',{'class':'ng-star-inserted'})\n",
    "print(element_ls_item)"
   ]
  },
  {
   "cell_type": "code",
   "execution_count": null,
   "metadata": {},
   "outputs": [],
   "source": [
    "element0=driver.find_element_by_xpath(\n",
    "    '//*[@id=\"applicationContainer\"]/div/div[2]/div[1]/div[2]/app-search/div/div[2]/app-search-results/div/div[3]/a[20]')"
   ]
  },
  {
   "cell_type": "code",
   "execution_count": null,
   "metadata": {},
   "outputs": [],
   "source": [
    "element0\n"
   ]
  },
  {
   "cell_type": "code",
   "execution_count": null,
   "metadata": {},
   "outputs": [],
   "source": [
    "element0.click()"
   ]
  },
  {
   "cell_type": "code",
   "execution_count": null,
   "metadata": {},
   "outputs": [],
   "source": []
  },
  {
   "cell_type": "code",
   "execution_count": null,
   "metadata": {},
   "outputs": [],
   "source": [
    "all_ls='<div _ngcontent-c21=\"\" class=\"linkList col-sm-6\"><!----><a _ngcontent-c21=\"\" class=\"ng-star-inserted\"><div _ngcontent-c21=\"\" class=\"textContainer\" id=\"dleft0\">FRAME, PEDESTAL, AND ENGINE BASE [A06] - 5</div></a><a _ngcontent-c21=\"\" class=\"ng-star-inserted\"><div _ngcontent-c21=\"\" class=\"textContainer\" id=\"dleft1\">SEAT AND FENDER-DECK [A07] - 6</div></a><a _ngcontent-c21=\"\" class=\"ng-star-inserted\"><div _ngcontent-c21=\"\" class=\"textContainer\" id=\"dleft2\">BATTERY AND BATTERY BASE [A08] - 7</div></a><a _ngcontent-c21=\"\" class=\"ng-star-inserted\"><div _ngcontent-c21=\"\" class=\"textContainer\" id=\"dleft3\">FRONT AXLE, WHEELS AND TIRES [A09] - 8</div></a><a _ngcontent-c21=\"\" class=\"ng-star-inserted\"><div _ngcontent-c21=\"\" class=\"textContainer\" id=\"dleft4\">HOOD AND GRILLE ASSEMBLY [A10] - 9</div></a><a _ngcontent-c21=\"\" class=\"ng-star-inserted\"><div _ngcontent-c21=\"\" class=\"textContainer\" id=\"dleft5\">STEERING WHEEL, STEERING GEAR, AND DRAG LINK [A11] - 10</div></a><a _ngcontent-c21=\"\" class=\"ng-star-inserted\"><div _ngcontent-c21=\"\" class=\"textContainer\" id=\"dleft6\">CYLINDER BLOCK, CRANKSHAFT AND MUFFLER [A12] - 11</div></a><a _ngcontent-c21=\"\" class=\"ng-star-inserted\"><div _ngcontent-c21=\"\" class=\"textContainer\" id=\"dleft7\">CYLINDER HEAD, BREATHER, AND GOVERNOR [A13] - 12</div></a><a _ngcontent-c21=\"\" class=\"ng-star-inserted\"><div _ngcontent-c21=\"\" class=\"textContainer\" id=\"dleft8\">CONNECTING ROD, PISTON, AND RINGS [A14] - 13</div></a><a _ngcontent-c21=\"\" class=\"ng-star-inserted\"><div _ngcontent-c21=\"\" class=\"textContainer\" id=\"dleft9\">VALVES, CAMSHAFT AND OIL PUMP [A15] - 14</div></a><a _ngcontent-c21=\"\" class=\"ng-star-inserted\"><div _ngcontent-c21=\"\" class=\"textContainer\" id=\"dleft10\">ENGINE MOUNTING FLANGE, OIL FILLER TUBE AND DIPSTICK [A16] - 15</div></a><a _ngcontent-c21=\"\" class=\"ng-star-inserted\"><div _ngcontent-c21=\"\" class=\"textContainer\" id=\"dleft11\">BLOWER HOUSING, MANUAL STARTER HUB AND AIR INTAKE SCREEN [A17] - 16</div></a><a _ngcontent-c21=\"\" class=\"ng-star-inserted\"><div _ngcontent-c21=\"\" class=\"textContainer\" id=\"dleft12\">AM30931 ROUND STARTER MOTOR (MODEL NO. 29965 STAMPED ON END CAP) [A18] - 17</div></a><a _ngcontent-c21=\"\" class=\"ng-star-inserted\"><div _ngcontent-c21=\"\" class=\"textContainer\" id=\"dleft13\">AM32092 ROUND STARTER MOTOR (MODEL NO. 32468A OR 32468B STAMPED ON END CAP) [A19] - 18</div></a><a _ngcontent-c21=\"\" class=\"ng-star-inserted\"><div _ngcontent-c21=\"\" class=\"textContainer\" id=\"dleft14\">AM34731 SQUARE STARTER MOTOR (MODEL NO. 33606 STAMPED ON BOTTOM) [A20] - 19</div></a><a _ngcontent-c21=\"\" class=\"ng-star-inserted\"><div _ngcontent-c21=\"\" class=\"textContainer\" id=\"dleft15\">FLYWHEEL, MAGNETO RECTIFIER, ALTERNATOR AND SPARK PLUG [A21] - 20</div></a><a _ngcontent-c21=\"\" class=\"ng-star-inserted\"><div _ngcontent-c21=\"\" class=\"textContainer\" id=\"dleft16\">WIRING HARNESS AND ELECTRICAL SYSTEM [A22] - 21</div></a><a _ngcontent-c21=\"\" class=\"ng-star-inserted\"><div _ngcontent-c21=\"\" class=\"textContainer\" id=\"dleft17\">CARBURETOR [A23] - 22</div></a><a _ngcontent-c21=\"\" class=\"ng-star-inserted\"><div _ngcontent-c21=\"\" class=\"textContainer\" id=\"dleft18\">AIR CLEANER AND INTAKE PIPE [A25] - 23</div></a><a _ngcontent-c21=\"\" class=\"ng-star-inserted\"><div _ngcontent-c21=\"\" class=\"textContainer\" id=\"dleft19\">FUEL TANK AND FILTER ASSEMBLY [B01] - 24</div></a></div>'\n",
    "ele=driver.find_element_by_xpath('//*[@id=\"applicationContainer\"]/div/div[2]/div[1]/div[2]/app-navigation/div/app-navigation-results/div/div[1]/div[1]')\n",
    "ele=bsup(ele.parent.page_source,'html.parser')\n",
    "# for elem in ele.find_all('a'):\n",
    "#     driver.elem.click()\n",
    "for i in ele.find_all('a',{'_ngcontent-c21':\"\" ,'class':\"ng-star-inserted\"})[4:]:\n",
    "    i.\n",
    "    break"
   ]
  },
  {
   "cell_type": "code",
   "execution_count": null,
   "metadata": {},
   "outputs": [],
   "source": [
    "# html1=driver.find_element_by_tag_name(\"div\")"
   ]
  },
  {
   "cell_type": "code",
   "execution_count": null,
   "metadata": {},
   "outputs": [],
   "source": []
  },
  {
   "cell_type": "code",
   "execution_count": null,
   "metadata": {},
   "outputs": [],
   "source": [
    "# html=driver.execute_script(\"return document.documentElement.outerHTML\")"
   ]
  },
  {
   "cell_type": "code",
   "execution_count": null,
   "metadata": {},
   "outputs": [],
   "source": [
    "# html1=driver.find_element_by_tag_name(\"div\")"
   ]
  },
  {
   "cell_type": "code",
   "execution_count": null,
   "metadata": {},
   "outputs": [],
   "source": [
    "# html=bsup(html,'lxml')\n",
    "# html"
   ]
  },
  {
   "cell_type": "code",
   "execution_count": null,
   "metadata": {},
   "outputs": [],
   "source": [
    "# html1=bsup(html1,'lxml')\n",
    "# html1"
   ]
  },
  {
   "cell_type": "code",
   "execution_count": null,
   "metadata": {},
   "outputs": [],
   "source": [
    "# taken2='https://partscatalog.deere.com/jdrc/search/type/model/term/43CM%20Walk-Behind%20Mowers%2C%204-Cycle%20-%20PC4253'\n",
    "# 'class=\"linkList ng-star-inserted\"'"
   ]
  },
  {
   "cell_type": "code",
   "execution_count": null,
   "metadata": {},
   "outputs": [],
   "source": [
    "import requests"
   ]
  },
  {
   "cell_type": "code",
   "execution_count": null,
   "metadata": {},
   "outputs": [],
   "source": [
    "# html.find_all('a',{'class':'ng-star-inserted'})"
   ]
  },
  {
   "cell_type": "code",
   "execution_count": null,
   "metadata": {},
   "outputs": [],
   "source": [
    "# taken2='https://partscatalog.deere.com/jdrc/search/type/model/term/43CM%20Walk-Behind%20Mowers%2C%204-Cycle%20-%20PC4253'\n",
    "\n",
    "# for i in html.find_all('span',{'class':'text-muted secondLine'}):\n",
    "#     if 'Tractor' in i.text or 'Lawn Tractor'in i.text:\n",
    "#         i=i.text\n",
    "#         print(i)\n",
    "#         i=i.replace(' ','%20').replace(',','')\n",
    "#         taken0=f'https://partscatalog.deere.com/jdrc/search/type/model/term/{i}'\n",
    "#         print(taken0)\n",
    "#         taken2=f'https://partscatalog.deere.com/jdrc/search/type/model/term/43CM%20Walk-Behind%20Mowers%2C%204-Cycle%20-%20PC4253'\n"
   ]
  },
  {
   "cell_type": "code",
   "execution_count": null,
   "metadata": {},
   "outputs": [],
   "source": [
    "# html.find_all('div _ngcontent-c21',{'class':'textContainer textContainerNoPictorial labelPadding'})"
   ]
  },
  {
   "cell_type": "code",
   "execution_count": null,
   "metadata": {},
   "outputs": [],
   "source": [
    "# html.find_all('div')"
   ]
  },
  {
   "cell_type": "code",
   "execution_count": null,
   "metadata": {},
   "outputs": [],
   "source": [
    "driver.get('https://partscatalog.deere.com/jdrc/navigation/equipment/68481')"
   ]
  },
  {
   "cell_type": "code",
   "execution_count": null,
   "metadata": {},
   "outputs": [],
   "source": [
    "element1 = driver.find_element_by_xpath(\n",
    "    '//*[@id=\"applicationContainer\"]/div/div[2]/div[1]/div[2]/app-navigation/div/app-navigation-results/div/div[1]/div[1]/a[2]')"
   ]
  },
  {
   "cell_type": "code",
   "execution_count": null,
   "metadata": {},
   "outputs": [],
   "source": [
    "element1.click()"
   ]
  },
  {
   "cell_type": "code",
   "execution_count": null,
   "metadata": {},
   "outputs": [],
   "source": [
    "element1=driver.execute_script(\"return document.documentElement.outerHTML\")"
   ]
  },
  {
   "cell_type": "code",
   "execution_count": null,
   "metadata": {},
   "outputs": [],
   "source": [
    "from bs4 import BeautifulSoup as bsup\n",
    "element1_html=bsup(element1,'lxml')\n",
    "element1_html_item=element1_html.find_all('div',{'class':'row partresultsection widthLimit ng-star-inserted'})\n"
   ]
  },
  {
   "cell_type": "code",
   "execution_count": null,
   "metadata": {},
   "outputs": [],
   "source": [
    "len(element1_html_item)"
   ]
  },
  {
   "cell_type": "code",
   "execution_count": null,
   "metadata": {},
   "outputs": [],
   "source": [
    "element1_html.find_all('div',{'class':'col-xl-6 col-lg-6 col-xs-6  col-sm-6 col-md-5 text-muted partNo'})\n",
    "# element1_html_row=element1_html.find_all('div',{'class':'row'})\n",
    "# for i in element1_html_row:\n",
    "#     print(i)\n",
    "for e in element1_html_item:\n",
    "    print(e.div.text)"
   ]
  },
  {
   "cell_type": "code",
   "execution_count": null,
   "metadata": {},
   "outputs": [],
   "source": [
    "import pprint\n",
    "import re"
   ]
  },
  {
   "cell_type": "code",
   "execution_count": null,
   "metadata": {
    "scrolled": false
   },
   "outputs": [],
   "source": [
    "for i in element1_html_item:\n",
    "    x=re.split(\"\\d+ - |Part Number|Qty Req|Serial No.|Remarks\",i.div.text)\n",
    "#     pprint.pprint(x)\n",
    "    \n",
    "    i1=i.find_all('a',{'class':'partDesc disabledPartDesc'})\n",
    "    i2=i.find_all('a',{'class':'partDesc'})\n",
    "    if bool(i1)!=False:\n",
    "         i=i1\n",
    "    else:\n",
    "        i=i2\n",
    "#     for j in i:\n",
    "#         print(i)\n",
    "#         print(j.text)\n",
    "    \n",
    "    \n",
    "        \n",
    "    if 'NO LONGER AVAILABLE' in x[-1]:\n",
    "        print(f'part name: {x[1]}\\npart number: {x[2]},\\nquantity{x[3]},\\nRemarks:{x[4]}')"
   ]
  },
  {
   "cell_type": "markdown",
   "metadata": {},
   "source": [
    "### presentable project"
   ]
  },
  {
   "cell_type": "code",
   "execution_count": 24,
   "metadata": {},
   "outputs": [
    {
     "name": "stdout",
     "output_type": "stream",
     "text": [
      "please enter part no:70\n"
     ]
    }
   ],
   "source": [
    "from selenium import webdriver\n",
    "from selenium.webdriver.common.by import By\n",
    "from selenium.webdriver.common.keys import Keys\n",
    "from selenium.webdriver.support.ui import WebDriverWait\n",
    "from selenium.webdriver.support.expected_conditions import presence_of_element_located\n",
    "\n",
    "import lxml\n",
    "chromedriver=r\"C:\\Users\\taimo\\Desktop\\datascience_upwork\\chromedriver_win32\\chromedriver.exe\"\n",
    "\n",
    "driver=webdriver.Chrome(executable_path=chromedriver)\n",
    "wait = WebDriverWait(driver, 10)\n",
    "\n",
    "\n",
    "part=input('please enter part no:')"
   ]
  },
  {
   "cell_type": "code",
   "execution_count": 25,
   "metadata": {},
   "outputs": [
    {
     "ename": "TimeoutException",
     "evalue": "Message: \n",
     "output_type": "error",
     "traceback": [
      "\u001b[1;31m---------------------------------------------------------------------------\u001b[0m",
      "\u001b[1;31mTimeoutException\u001b[0m                          Traceback (most recent call last)",
      "\u001b[1;32m<ipython-input-25-f1dd06487873>\u001b[0m in \u001b[0;36m<module>\u001b[1;34m\u001b[0m\n\u001b[0;32m     12\u001b[0m \u001b[0msec_ls_path\u001b[0m\u001b[1;33m=\u001b[0m\u001b[1;34m'//*[@id=\"applicationContainer\"]/div/div[2]/div[1]/div[2]/app-navigation/div/app-navigation-results/div/div[1]/div[1]'\u001b[0m\u001b[1;33m\u001b[0m\u001b[1;33m\u001b[0m\u001b[0m\n\u001b[0;32m     13\u001b[0m \u001b[1;33m\u001b[0m\u001b[0m\n\u001b[1;32m---> 14\u001b[1;33m \u001b[0mfirst_result\u001b[0m \u001b[1;33m=\u001b[0m \u001b[0mwait\u001b[0m\u001b[1;33m.\u001b[0m\u001b[0muntil\u001b[0m\u001b[1;33m(\u001b[0m\u001b[0mpresence_of_element_located\u001b[0m\u001b[1;33m(\u001b[0m\u001b[1;33m(\u001b[0m\u001b[0mBy\u001b[0m\u001b[1;33m.\u001b[0m\u001b[0mXPATH\u001b[0m\u001b[1;33m,\u001b[0m \u001b[0msec_ls_path\u001b[0m\u001b[1;33m)\u001b[0m\u001b[1;33m)\u001b[0m\u001b[1;33m)\u001b[0m\u001b[1;33m\u001b[0m\u001b[1;33m\u001b[0m\u001b[0m\n\u001b[0m\u001b[0;32m     15\u001b[0m \u001b[0melement_ls\u001b[0m\u001b[1;33m=\u001b[0m\u001b[0mdriver\u001b[0m\u001b[1;33m.\u001b[0m\u001b[0mfind_element_by_xpath\u001b[0m\u001b[1;33m(\u001b[0m\u001b[0msec_ls_path\u001b[0m\u001b[1;33m)\u001b[0m\u001b[1;33m\u001b[0m\u001b[1;33m\u001b[0m\u001b[0m\n\u001b[0;32m     16\u001b[0m \u001b[1;32mfrom\u001b[0m \u001b[0mbs4\u001b[0m \u001b[1;32mimport\u001b[0m \u001b[0mBeautifulSoup\u001b[0m \u001b[1;32mas\u001b[0m \u001b[0mbsup\u001b[0m\u001b[1;33m\u001b[0m\u001b[1;33m\u001b[0m\u001b[0m\n",
      "\u001b[1;32m~\\Anaconda3\\lib\\site-packages\\selenium\\webdriver\\support\\wait.py\u001b[0m in \u001b[0;36muntil\u001b[1;34m(self, method, message)\u001b[0m\n\u001b[0;32m     78\u001b[0m             \u001b[1;32mif\u001b[0m \u001b[0mtime\u001b[0m\u001b[1;33m.\u001b[0m\u001b[0mtime\u001b[0m\u001b[1;33m(\u001b[0m\u001b[1;33m)\u001b[0m \u001b[1;33m>\u001b[0m \u001b[0mend_time\u001b[0m\u001b[1;33m:\u001b[0m\u001b[1;33m\u001b[0m\u001b[1;33m\u001b[0m\u001b[0m\n\u001b[0;32m     79\u001b[0m                 \u001b[1;32mbreak\u001b[0m\u001b[1;33m\u001b[0m\u001b[1;33m\u001b[0m\u001b[0m\n\u001b[1;32m---> 80\u001b[1;33m         \u001b[1;32mraise\u001b[0m \u001b[0mTimeoutException\u001b[0m\u001b[1;33m(\u001b[0m\u001b[0mmessage\u001b[0m\u001b[1;33m,\u001b[0m \u001b[0mscreen\u001b[0m\u001b[1;33m,\u001b[0m \u001b[0mstacktrace\u001b[0m\u001b[1;33m)\u001b[0m\u001b[1;33m\u001b[0m\u001b[1;33m\u001b[0m\u001b[0m\n\u001b[0m\u001b[0;32m     81\u001b[0m \u001b[1;33m\u001b[0m\u001b[0m\n\u001b[0;32m     82\u001b[0m     \u001b[1;32mdef\u001b[0m \u001b[0muntil_not\u001b[0m\u001b[1;33m(\u001b[0m\u001b[0mself\u001b[0m\u001b[1;33m,\u001b[0m \u001b[0mmethod\u001b[0m\u001b[1;33m,\u001b[0m \u001b[0mmessage\u001b[0m\u001b[1;33m=\u001b[0m\u001b[1;34m''\u001b[0m\u001b[1;33m)\u001b[0m\u001b[1;33m:\u001b[0m\u001b[1;33m\u001b[0m\u001b[1;33m\u001b[0m\u001b[0m\n",
      "\u001b[1;31mTimeoutException\u001b[0m: Message: \n"
     ]
    }
   ],
   "source": [
    "######link to search model 70\n",
    "driver.get('https://www.deere.com/en/parts-and-service/parts/')\n",
    "########\n",
    "# fcx='//*[@id=\"SBSsearchInput\"]'\n",
    "\n",
    "# first_result = wait.until(presence_of_element_located((By.XPATH, \n",
    "#                                                       fcx)))\n",
    "# ########\n",
    "# driver.find_element_by_xpath(fcx).send_keys('70'+ Keys.RETURN)\n",
    "driver.get(f'https://partscatalog.deere.com/jdrc/search/type/model/term/{part}')\n",
    "#####################------------------------\n",
    "sec_ls_path='//*[@id=\"applicationContainer\"]/div/div[2]/div[1]/div[2]/app-navigation/div/app-navigation-results/div/div[1]/div[1]'\n",
    "\n",
    "first_result = wait.until(presence_of_element_located((By.XPATH, sec_ls_path)))\n",
    "element_ls=driver.find_element_by_xpath(sec_ls_path)\n",
    "from bs4 import BeautifulSoup as bsup\n",
    "element_ls=bsup(element1,'lxml')\n",
    "element_ls_item=element_ls.find_all('a',{'class':'ng-star-inserted'})\n",
    "#################################\n",
    "######click on for\n",
    "first_result = wait.until(presence_of_element_located((By.XPATH, \n",
    "        '//*[@id=\"applicationContainer\"]/div/div[2]/div[1]/div[2]/app-search/div/div[2]/app-search-results/div/div[3]/a[20]')))\n",
    "\n",
    "\n",
    "\n",
    "\n",
    "###############\n",
    "element0=driver.find_element_by_xpath(\n",
    "    '//*[@id=\"applicationContainer\"]/div/div[2]/div[1]/div[2]/app-search/div/div[2]/app-search-results/div/div[3]/a[20]')\n",
    "element0.click()\n",
    "\n",
    "\n",
    "\n",
    "##########\n",
    "first_result = wait.until(presence_of_element_located((By.XPATH,\n",
    "'//*[@id=\"applicationContainer\"]/div/div[2]/div[1]/div[2]/app-navigation/div/app-navigation-results/div/div[1]/div[1]/a[2]')))\n",
    "\n",
    "\n",
    "##########\n",
    "\n",
    "\n",
    "element1 = driver.find_element_by_xpath(\n",
    "    '//*[@id=\"applicationContainer\"]/div/div[2]/div[1]/div[2]/app-navigation/div/app-navigation-results/div/div[1]/div[1]/a[2]')\n",
    "\n",
    "element1.click()\n",
    "##########\n",
    "first_result = wait.until(presence_of_element_located((By.XPATH,\n",
    "                    '//*[@id=\"applicationContainer\"]/div/div[2]/div[1]/div[2]/app-sidebyside/div/div/div[2]/div[3]')))\n",
    "\n",
    "\n",
    "\n",
    "###################\n",
    "\n",
    "element1=driver.execute_script(\"return document.documentElement.outerHTML\")\n",
    "\n",
    "#####################\n",
    "\n",
    "from bs4 import BeautifulSoup as bsup\n",
    "element1_html=bsup(element1,'lxml')\n",
    "element1_html_item=element1_html.find_all('div',{'class':'row partresultsection widthLimit ng-star-inserted'})\n",
    "#################################\n",
    "# len(element1_html_item)\n",
    "####################################\n",
    "# element1_html.find_all('div',{'class':'col-xl-6 col-lg-6 col-xs-6  col-sm-6 col-md-5 text-muted partNo'})\n",
    "# element1_html_row=element1_html.find_all('div',{'class':'row'})\n",
    "# for i in element1_html_row:\n",
    "#     print(i)\n",
    "# for e in element1_html_item:\n",
    "#     print(e.div.text)\n",
    "# print(element1_html_item)\n",
    "##################################################\n",
    "import pprint\n",
    "import re\n",
    "    \n",
    "for i in element1_html_item:\n",
    "    x=re.split(\"\\d+ - |Part Number|Qty Req|Serial No.|Remarks\",i.div.text)\n",
    "#     pprint.pprint(x)\n",
    "    \n",
    "    i1=i.find_all('a',{'class':'partDesc disabledPartDesc'})\n",
    "    i2=i.find_all('a',{'class':'partDesc'})\n",
    "    if bool(i1)!=False:\n",
    "         i=i1\n",
    "    else:\n",
    "        i=i2\n",
    "#     for j in i:\n",
    "#         print(i)\n",
    "#         print(j.text)\n",
    "    \n",
    "    \n",
    "        \n",
    "    if 'NO LONGER AVAILABLE' in x[-1]:\n",
    "        print(f'part name: {x[1]}\\npart number: {x[2]},\\nquantity{x[3]},\\nRemarks:{x[4]}')"
   ]
  },
  {
   "cell_type": "markdown",
   "metadata": {},
   "source": [
    "###  "
   ]
  },
  {
   "cell_type": "markdown",
   "metadata": {},
   "source": [
    "###  "
   ]
  },
  {
   "cell_type": "markdown",
   "metadata": {},
   "source": [
    "###  "
   ]
  },
  {
   "cell_type": "markdown",
   "metadata": {},
   "source": [
    "###  "
   ]
  },
  {
   "cell_type": "code",
   "execution_count": 22,
   "metadata": {},
   "outputs": [],
   "source": [
    "#FUNCTION CREATED\n",
    "def johndeer():\n",
    "    from selenium import webdriver\n",
    "    from selenium.webdriver.common.by import By\n",
    "    from selenium.webdriver.common.keys import Keys\n",
    "    from selenium.webdriver.support.ui import WebDriverWait\n",
    "    from selenium.webdriver.support.expected_conditions import presence_of_element_located\n",
    "\n",
    "    import lxml\n",
    "    chromedriver=r\"C:\\Users\\taimo\\Desktop\\datascience_upwork\\chromedriver_win32\\chromedriver.exe\"\n",
    "\n",
    "    driver=webdriver.Chrome(executable_path=chromedriver)\n",
    "    wait = WebDriverWait(driver, 10)\n",
    "\n",
    "\n",
    "    part=input('please enter part no:')\n",
    "    ######link to search model 70\n",
    "    driver.get('https://www.deere.com/en/parts-and-service/parts/')\n",
    "    ########\n",
    "\n",
    "    driver.get(f'https://partscatalog.deere.com/jdrc/search/type/model/term/{part}')\n",
    "\n",
    "    ######click on for\n",
    "    first_result = wait.until(presence_of_element_located((By.XPATH, \n",
    "            '//*[@id=\"applicationContainer\"]/div/div[2]/div[1]/div[2]/app-search/div/div[2]/app-search-results/div/div[3]/a[20]')))\n",
    "    ###############\n",
    "    element0=driver.find_element_by_xpath(\n",
    "        '//*[@id=\"applicationContainer\"]/div/div[2]/div[1]/div[2]/app-search/div/div[2]/app-search-results/div/div[3]/a[20]')\n",
    "    element0.click()\n",
    "\n",
    "\n",
    "\n",
    "    ##########\n",
    "    first_result = wait.until(presence_of_element_located((By.XPATH,\n",
    "    '//*[@id=\"applicationContainer\"]/div/div[2]/div[1]/div[2]/app-navigation/div/app-navigation-results/div/div[1]/div[1]/a[2]')))\n",
    "\n",
    "\n",
    "    ##########\n",
    "\n",
    "\n",
    "    element1 = driver.find_element_by_xpath(\n",
    "        '//*[@id=\"applicationContainer\"]/div/div[2]/div[1]/div[2]/app-navigation/div/app-navigation-results/div/div[1]/div[1]/a[2]')\n",
    "\n",
    "    element1.click()\n",
    "    ##########\n",
    "    first_result = wait.until(presence_of_element_located((By.XPATH,\n",
    "                        '//*[@id=\"applicationContainer\"]/div/div[2]/div[1]/div[2]/app-sidebyside/div/div/div[2]/div[3]')))\n",
    "\n",
    "\n",
    "\n",
    "    ###################\n",
    "\n",
    "    element1=driver.execute_script(\"return document.documentElement.outerHTML\")\n",
    "\n",
    "    #####################\n",
    "\n",
    "    from bs4 import BeautifulSoup as bsup\n",
    "    element1_html=bsup(element1,'lxml')\n",
    "    element1_html_item=element1_html.find_all('div',{'class':'row partresultsection widthLimit ng-star-inserted'})\n",
    "\n",
    "    ##################################################\n",
    "    import pprint\n",
    "    import re\n",
    "\n",
    "    for i in element1_html_item:\n",
    "        x=re.split(\"\\d+ - |Part Number|Qty Req|Serial No.|Remarks\",i.div.text)\n",
    "    #     pprint.pprint(x)\n",
    "\n",
    "        i1=i.find_all('a',{'class':'partDesc disabledPartDesc'})\n",
    "        i2=i.find_all('a',{'class':'partDesc'})\n",
    "        if bool(i1)!=False:\n",
    "             i=i1\n",
    "        else:\n",
    "            i=i2\n",
    "\n",
    "\n",
    "\n",
    "\n",
    "        if 'NO LONGER AVAILABLE' in x[-1]:\n",
    "            print(f'part name: {x[1]}\\npart number: {x[2]},\\nquantity{x[3]},\\nRemarks:{x[4]}')"
   ]
  },
  {
   "cell_type": "code",
   "execution_count": 23,
   "metadata": {},
   "outputs": [
    {
     "name": "stdout",
     "output_type": "stream",
     "text": [
      "please enter part no:70\n",
      "part name: FENDER\n",
      "part number: AM31908,\n",
      "quantity1,\n",
      "Remarks:(NO LONGER AVAILABLE)\n"
     ]
    }
   ],
   "source": [
    "johndeer()"
   ]
  },
  {
   "cell_type": "code",
   "execution_count": null,
   "metadata": {},
   "outputs": [],
   "source": []
  }
 ],
 "metadata": {
  "kernelspec": {
   "display_name": "Python 3",
   "language": "python",
   "name": "python3"
  },
  "language_info": {
   "codemirror_mode": {
    "name": "ipython",
    "version": 3
   },
   "file_extension": ".py",
   "mimetype": "text/x-python",
   "name": "python",
   "nbconvert_exporter": "python",
   "pygments_lexer": "ipython3",
   "version": "3.7.3"
  }
 },
 "nbformat": 4,
 "nbformat_minor": 2
}
