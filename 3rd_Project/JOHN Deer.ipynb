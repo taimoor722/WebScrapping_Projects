{
 "cells": [
  {
   "cell_type": "code",
   "execution_count": 45,
   "metadata": {},
   "outputs": [],
   "source": [
    "import requests\n",
    "from bs4 import BeautifulSoup as bsup\n",
    "from selenium import webdriver\n",
    "import lxml\n",
    "chromedriver=r\"C:\\Users\\taimo\\Desktop\\datascience_upwork\\chromedriver_win32\\chromedriver.exe\"\n",
    "\n",
    "driver=webdriver.Chrome(executable_path=chromedriver)"
   ]
  },
  {
   "cell_type": "code",
   "execution_count": 46,
   "metadata": {},
   "outputs": [],
   "source": [
    "taken=driver.get('https://partscatalog.deere.com/jdrc/search/type/model/term/70')\n",
    "html=driver.execute_script(\"return document.documentElement.outerHTML\")"
   ]
  },
  {
   "cell_type": "code",
   "execution_count": 47,
   "metadata": {},
   "outputs": [
    {
     "data": {
      "text/plain": [
       "<html lang=\"en\"><head><script async=\"async\" src=\"https://somni.deere.com/b/ss/deerersddc/10/JS-2.5.0-D7QN/s74485941990011?AQB=1&amp;ndh=1&amp;pf=1&amp;callback=s_c_il[1].doPostbacks&amp;et=1&amp;t=30%2F0%2F2020%203%3A41%3A17%204%20-300&amp;cid.&amp;adobeidused.&amp;id=16016115070540570622221926336966508752&amp;as=1&amp;.adobeidused&amp;astro_class.&amp;id=16016115070540570622221926336966508752&amp;as=1&amp;.astro_class&amp;adobeid2.&amp;id=16016115070540570622221926336966508752&amp;as=1&amp;.adobeid2&amp;eaa_predic_score.&amp;id=16016115070540570622221926336966508752&amp;as=1&amp;.eaa_predic_score&amp;.cid&amp;d.&amp;nsid=0&amp;jsonv=1&amp;.d&amp;sdid=47B8BA0A86F82B55-79F5AFE621E49EAB&amp;D=D%3D&amp;mid=16016115070540570622221926336966508752&amp;ce=UTF-8&amp;ns=deere&amp;pageName=en_us%20%3A%20partslookup%20%3A%20search%20results%20%3A%20model&amp;g=https%3A%2F%2Fpartscatalog.deere.com%2Fjdrc%2Fsearch%2Ftype%2Fmodel%2Fterm%2F70&amp;cc=USD&amp;ch=en_us%20%3A%20partslookup%20%3A%20search%20results&amp;server=partscatalog.deere.com&amp;events=event147%3D4493%2Cevent148%2Cevent450%3D18290%2Cevent451&amp;v3=en_us%20%3A%20partslookup%20%3A%20search%20results&amp;v4=en_us%20%3A%20partslookup%20%3A%20search%20results%20%3A%20model%20%3A%2070&amp;c34=partslookup&amp;c42=First%20Visit&amp;c43=5%3A30PM&amp;c44=Wednesday&amp;c45=Weekday&amp;v47=First%20Visit&amp;v48=5%3A30PM&amp;v49=Wednesday&amp;v50=Weekday&amp;c54=en_us&amp;v58=partslookup&amp;v61=en_us&amp;c65=18290&amp;c66=D%3Dmid&amp;c72=VisitorAPI%20Present%3AYes%20mid&amp;c73=partslookup%7CDTM%20doPlugins%7C0&amp;s=1536x864&amp;c=24&amp;j=1.6&amp;v=N&amp;k=Y&amp;bw=1036&amp;bh=674&amp;mcorgid=8CC867C25245ADC30A490D4C%40AdobeOrg&amp;AQE=1\" type=\"text/javascript\"></script>\n",
       "<meta charset=\"utf-8\"/>\n",
       "<title>John Deere Parts Catalog</title>\n",
       "<base href=\"/jdrc/\"/>\n",
       "<meta content=\"IE=Edge\" http-equiv=\"X-UA-Compatible\"/>\n",
       "<meta content=\"text/html; charset=utf-8\" http-equiv=\"content-type\"/>\n",
       "<meta content=\"no-cache, no-store, must-revalidate\" http-equiv=\"cache-control\"/>\n",
       "<meta content=\"no-cache\" http-equiv=\"pragma\"/>\n",
       "<meta content=\"0\" http-equiv=\"expires\"/>\n",
       "<meta content=\"yes\" name=\"mobile-web-app-capable\"/>\n",
       "<meta content=\"yes\" name=\"apple-mobile-web-app-capable\"/>\n",
       "<meta content=\"black\" name=\"apple-mobile-web-app-status-bar-style\"/>\n",
       "<meta content=\"width=device-width, initial-scale=1, maximum-scale=1\" name=\"viewport\"/>\n",
       "<meta content=\"notranslate\" name=\"google\"/>\n",
       "<meta content=\"index\" name=\"robots\"/>\n",
       "<meta content=\"Find parts &amp; diagrams for your John Deere equipment. Search our parts catalog, order parts online or contact your John Deere dealer.\" name=\"description\"/>\n",
       "<meta content=\"tractor, truck, gator, harvester, scraper, aerator, mower, landscape, rake, tedder, seeder, excavator, hammer, dozer, attachments, sprayer, disk, tillage, merger, fork, bucket, bunker, corn head, generator, grapple, forage, x300, x500, x700, backhoe, shredder, mulcher, rate controller, ztrak, planter, powertech, combine\" name=\"keywords\"/>\n",
       "<link href=\"https://fonts.googleapis.com/icon?family=Material+Icons\" rel=\"stylesheet\"/>\n",
       "<link href=\"favicon.ico\" rel=\"shortcut icon\" type=\"image/x-icon\"/>\n",
       "<!-- <link rel=\"icon\"  href=\"assets/icon/deere_logo.ico\">-->\n",
       "<style>\n",
       "  .ajax-loader {\n",
       "    position: absolute;\n",
       "    left: 50%;\n",
       "    top: 30%;\n",
       "    margin-left: -125px;\n",
       "    margin-top: -32px;\n",
       "    display: block;\n",
       "    z-index: 99999999999999;\n",
       "  }\n",
       "  </style>\n",
       "<script src=\"//assets.adobedtm.com/2049358d456be09212c0f542d1c8301b8a4e2545/satelliteLib-42cc3c5172ff3b24e481a0080f0585a1b197951c.js\"></script><script src=\"https://assets.adobedtm.com/2049358d456be09212c0f542d1c8301b8a4e2545/mbox-contents-8247c3af7eaec0f62bcc99a8433eafa1cdd527f7.js\"></script>\n",
       "<script>\n",
       "    var appVersion = \"JDRC-5A.0.0-R\";\n",
       "  </script>\n",
       "<link href=\"styles.0f13664e91d7d9ab8267.css\" rel=\"stylesheet\"/><script src=\"https://assets.adobedtm.com/2049358d456be09212c0f542d1c8301b8a4e2545/s-code-contents-88eb70994288dcedbc7bee8d08072baf1000e9b7.js\"></script><style class=\"at-flicker-control\" id=\"at-makers-style\">\n",
       ".mboxDefault {visibility:hidden;}\n",
       "</style></head>\n",
       "<body>\n",
       "<jdrc-app>\n",
       "<img class=\"ajax-loader\" src=\"assets/images/loading.large.gif\"/>\n",
       "</jdrc-app>\n",
       "<script type=\"text/javascript\">if(typeof _satellite !=\"undefined\"){ _satellite.pageBottom(); }</script>\n",
       "<script src=\"runtime.26209474bfa8dc87a77c.js\" type=\"text/javascript\"></script><script src=\"polyfills.a43d252e2ba23d57ec56.js\" type=\"text/javascript\"></script><div id=\"storageSpannerRelay_deere\" style=\"display: none;\"><iframe src=\"https://deere.storagespanner.com/80697546464a9e88289ed16ac2dca14d/170f0d19830136c527930989242ca492/storageSpannerRelay.html\"></iframe></div><script src=\"vendor.b3afe4387d0a2045ac89.js\" type=\"text/javascript\"></script><script src=\"main.3fc25342fe77e23c58aa.js\" type=\"text/javascript\"></script>\n",
       "<iframe id=\"destination_publishing_iframe_deere_0\" name=\"destination_publishing_iframe_deere_0_name\" sandbox=\"allow-scripts allow-same-origin\" src=\"https://deere.demdex.net/dest5.html?d_nsid=0#https%3A%2F%2Fpartscatalog.deere.com%2Fjdrc%2Fsearch%2Ftype%2Fmodel%2Fterm%2F70\" style=\"display: none; width: 0px; height: 0px;\" title=\"Adobe ID Syncing iFrame\"></iframe></body></html>"
      ]
     },
     "execution_count": 47,
     "metadata": {},
     "output_type": "execute_result"
    }
   ],
   "source": [
    "html=bsup(html,\"lxml\")\n",
    "html"
   ]
  },
  {
   "cell_type": "code",
   "execution_count": 48,
   "metadata": {},
   "outputs": [
    {
     "data": {
      "text/plain": [
       "[]"
      ]
     },
     "execution_count": 48,
     "metadata": {},
     "output_type": "execute_result"
    }
   ],
   "source": [
    "html.find_all('a')"
   ]
  },
  {
   "cell_type": "code",
   "execution_count": null,
   "metadata": {},
   "outputs": [],
   "source": []
  }
 ],
 "metadata": {
  "kernelspec": {
   "display_name": "Python 3",
   "language": "python",
   "name": "python3"
  },
  "language_info": {
   "codemirror_mode": {
    "name": "ipython",
    "version": 3
   },
   "file_extension": ".py",
   "mimetype": "text/x-python",
   "name": "python",
   "nbconvert_exporter": "python",
   "pygments_lexer": "ipython3",
   "version": "3.7.3"
  }
 },
 "nbformat": 4,
 "nbformat_minor": 2
}
