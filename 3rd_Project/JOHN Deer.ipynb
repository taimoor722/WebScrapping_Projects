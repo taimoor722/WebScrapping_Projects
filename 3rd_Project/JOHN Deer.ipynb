{
 "cells": [
  {
   "cell_type": "code",
   "execution_count": 333,
   "metadata": {},
   "outputs": [
    {
     "name": "stdout",
     "output_type": "stream",
     "text": [
      "Show more\n"
     ]
    }
   ],
   "source": [
    "from selenium import webdriver\n",
    "from selenium.webdriver.common.by import By\n",
    "from selenium.webdriver.common.keys import Keys\n",
    "from selenium.webdriver.support.ui import WebDriverWait\n",
    "from selenium.webdriver.support.expected_conditions import presence_of_element_located\n",
    "\n",
    "#This example requires Selenium WebDriver 3.13 or newer\n",
    "chromedriver=r\"C:\\Users\\taimo\\Desktop\\datascience_upwork\\chromedriver_win32\\chromedriver.exe\"\n",
    "\n",
    "driver=webdriver.Chrome(executable_path=chromedriver)\n",
    "wait = WebDriverWait(driver, 10)\n",
    "driver.get(\"https://google.com/ncr\")\n",
    "driver.find_element_by_name(\"q\").send_keys(\"cheese\" + Keys.RETURN)\n",
    "first_result = wait.until(presence_of_element_located((By.CSS_SELECTOR, \"h3>div\")))\n",
    "print(first_result.get_attribute(\"textContent\"))"
   ]
  },
  {
   "cell_type": "code",
   "execution_count": null,
   "metadata": {},
   "outputs": [],
   "source": []
  },
  {
   "cell_type": "code",
   "execution_count": 304,
   "metadata": {},
   "outputs": [],
   "source": [
    "import requests\n",
    "from bs4 import BeautifulSoup as bsup\n",
    "from selenium import webdriver\n",
    "from selenium.webdriver.support.ui import WebDriverWait\n",
    "from selenium.webdriver.support.expected_conditions import presence_of_element_located\n",
    "\n",
    "    driver.find_element_by_name(\"q\").send_keys(\"cheese\" + Keys.RETURN)\n",
    "    first_result = wait.until(presence_of_element_located((By.CSS_SELECTOR, \"h3>div\")))\n",
    "    print(first_result.get_attribute(\"textContent\"))\n",
    "    \n",
    "    \n",
    "    \n",
    "import lxml\n",
    "chromedriver=r\"C:\\Users\\taimo\\Desktop\\datascience_upwork\\chromedriver_win32\\chromedriver.exe\"\n",
    "\n",
    "driver=webdriver.Chrome(executable_path=chromedriver)\n",
    "wait = WebDriverWait(driver, 10)\n"
   ]
  },
  {
   "cell_type": "code",
   "execution_count": 305,
   "metadata": {},
   "outputs": [],
   "source": [
    "driver.get('https://partscatalog.deere.com/jdrc/search/type/model/term/70')"
   ]
  },
  {
   "cell_type": "code",
   "execution_count": 306,
   "metadata": {},
   "outputs": [],
   "source": [
    "element0=driver.find_element_by_xpath(\n",
    "    '//*[@id=\"applicationContainer\"]/div/div[2]/div[1]/div[2]/app-search/div/div[2]/app-search-results/div/div[3]/a[20]')"
   ]
  },
  {
   "cell_type": "code",
   "execution_count": 307,
   "metadata": {},
   "outputs": [],
   "source": [
    "element0.click()"
   ]
  },
  {
   "cell_type": "code",
   "execution_count": 308,
   "metadata": {},
   "outputs": [],
   "source": [
    "# html1=driver.find_element_by_tag_name(\"div\")"
   ]
  },
  {
   "cell_type": "code",
   "execution_count": null,
   "metadata": {},
   "outputs": [],
   "source": []
  },
  {
   "cell_type": "code",
   "execution_count": 309,
   "metadata": {},
   "outputs": [],
   "source": [
    "# html=driver.execute_script(\"return document.documentElement.outerHTML\")"
   ]
  },
  {
   "cell_type": "code",
   "execution_count": 310,
   "metadata": {},
   "outputs": [],
   "source": [
    "# html1=driver.find_element_by_tag_name(\"div\")"
   ]
  },
  {
   "cell_type": "code",
   "execution_count": 311,
   "metadata": {},
   "outputs": [],
   "source": [
    "# html=bsup(html,'lxml')\n",
    "# html"
   ]
  },
  {
   "cell_type": "code",
   "execution_count": 312,
   "metadata": {},
   "outputs": [],
   "source": [
    "# html1=bsup(html1,'lxml')\n",
    "# html1"
   ]
  },
  {
   "cell_type": "code",
   "execution_count": 313,
   "metadata": {},
   "outputs": [],
   "source": [
    "# taken2='https://partscatalog.deere.com/jdrc/search/type/model/term/43CM%20Walk-Behind%20Mowers%2C%204-Cycle%20-%20PC4253'\n",
    "# 'class=\"linkList ng-star-inserted\"'"
   ]
  },
  {
   "cell_type": "code",
   "execution_count": 314,
   "metadata": {},
   "outputs": [],
   "source": [
    "import requests"
   ]
  },
  {
   "cell_type": "code",
   "execution_count": 315,
   "metadata": {},
   "outputs": [],
   "source": [
    "# html.find_all('a',{'class':'ng-star-inserted'})"
   ]
  },
  {
   "cell_type": "code",
   "execution_count": 316,
   "metadata": {},
   "outputs": [],
   "source": [
    "# taken2='https://partscatalog.deere.com/jdrc/search/type/model/term/43CM%20Walk-Behind%20Mowers%2C%204-Cycle%20-%20PC4253'\n",
    "\n",
    "# for i in html.find_all('span',{'class':'text-muted secondLine'}):\n",
    "#     if 'Tractor' in i.text or 'Lawn Tractor'in i.text:\n",
    "#         i=i.text\n",
    "#         print(i)\n",
    "#         i=i.replace(' ','%20').replace(',','')\n",
    "#         taken0=f'https://partscatalog.deere.com/jdrc/search/type/model/term/{i}'\n",
    "#         print(taken0)\n",
    "#         taken2=f'https://partscatalog.deere.com/jdrc/search/type/model/term/43CM%20Walk-Behind%20Mowers%2C%204-Cycle%20-%20PC4253'\n"
   ]
  },
  {
   "cell_type": "code",
   "execution_count": 317,
   "metadata": {},
   "outputs": [],
   "source": [
    "# html.find_all('div _ngcontent-c21',{'class':'textContainer textContainerNoPictorial labelPadding'})"
   ]
  },
  {
   "cell_type": "code",
   "execution_count": 318,
   "metadata": {},
   "outputs": [],
   "source": [
    "# html.find_all('div')"
   ]
  },
  {
   "cell_type": "code",
   "execution_count": 319,
   "metadata": {},
   "outputs": [],
   "source": [
    "driver.get('https://partscatalog.deere.com/jdrc/navigation/equipment/68481')"
   ]
  },
  {
   "cell_type": "code",
   "execution_count": 323,
   "metadata": {},
   "outputs": [],
   "source": [
    "element1 = driver.find_element_by_xpath(\n",
    "    '//*[@id=\"applicationContainer\"]/div/div[2]/div[1]/div[2]/app-navigation/div/app-navigation-results/div/div[1]/div[1]/a[2]')"
   ]
  },
  {
   "cell_type": "code",
   "execution_count": 324,
   "metadata": {},
   "outputs": [],
   "source": [
    "element1.click()"
   ]
  },
  {
   "cell_type": "code",
   "execution_count": 325,
   "metadata": {},
   "outputs": [],
   "source": [
    "element1=driver.execute_script(\"return document.documentElement.outerHTML\")"
   ]
  },
  {
   "cell_type": "code",
   "execution_count": 326,
   "metadata": {},
   "outputs": [],
   "source": [
    "element1_html=bsup(element1,'lxml')\n",
    "element1_html_item=element1_html.find_all('div',{'class':'row partresultsection widthLimit ng-star-inserted'})\n"
   ]
  },
  {
   "cell_type": "code",
   "execution_count": 327,
   "metadata": {},
   "outputs": [
    {
     "data": {
      "text/plain": [
       "25"
      ]
     },
     "execution_count": 327,
     "metadata": {},
     "output_type": "execute_result"
    }
   ],
   "source": [
    "len(element1_html_item)"
   ]
  },
  {
   "cell_type": "code",
   "execution_count": 328,
   "metadata": {},
   "outputs": [
    {
     "name": "stdout",
     "output_type": "stream",
     "text": [
      "1 - PANPart Number........Qty Req1Serial No.______-45000Remarks(ORDER AM100163) (SUB FOR AM32456, AM33245 AND AM37480)\n",
      "2 - PADPart Number........Qty Req1Serial No.______-45000Remarks(ORDER AM100163) (SUB FOR AM32454, AM33245 AND AM37480)\n",
      "3 - ISOLATORPart NumberM44391Qty Req1Serial No.______-45000Remarks(3.048 M) 10 FT.\n",
      "4 - SPRINGPart NumberM41544Qty Req2info_outlineThis part has been substituted. View Details or add to cart to see substitute part information.\n",
      "5 - WASHERPart Number24H1305Qty Req4Serial No.______-45000Remarks13/32\" X 13/16\" X 0.065\"\n",
      "6 - LOCK WASHERPart Number12H304Qty Req4Serial No.______-45000Remarks3/8\"\n",
      "7 - NUTPart Number14H1076Qty Req4Serial No.______-45000Remarks3/8\"\n",
      "8 - CAP SCREWPart Number19H1731Qty Req4Remarks3/8\" X 1\"\n",
      "8 - NUTPart Number14H1076Qty Req4Remarks3/8\"\n",
      "8 - LOCK WASHERPart Number12H304Qty Req4Remarks3/8\"\n",
      "9 - CAP SCREWPart Number19H1936Qty Req2Remarks3/8\" X 3/4\"\n",
      "9 - NUTPart Number14H1076Qty Req2Remarks3/8\"\n",
      "9 - LOCK WASHERPart Number12H304Qty Req2Remarks3/8\"\n",
      "10 - WASHERPart Number24H1308Qty Req2Remarks13/32\" X 1\" X 0.134\"\n",
      "11 - FENDERPart NumberAM31908Qty Req1Remarks(NO LONGER AVAILABLE)\n",
      "12 - SEATPart NumberAM102953Qty Req1Remarks(SUB FOR AM34065, AM37580, AM37783, AM38671, AM39671 AND AM103153) (DELUXE HIGH BACK) (EXTRA EQUIPMENT)View Alternative Parts\n",
      "13 - LOCK WASHERPart Number12H304Qty Req4Remarks3/8\"\n",
      "14 - CAP SCREWPart Number19H1936Qty Req4Remarks3/8\" X 3/4\"\n",
      "15 - SCREWPart Number37H108Qty Req2Remarks3/8\" X 5/8\"\n",
      "16A - SEATPart Number........Qty Req1Serial No.45001-______Remarks(ORDER AM100163) (SUB FOR AM33245, AM36866 AND AM37480)\n",
      "16B - SEATPart NumberAM100163Qty Req1\n",
      "17 - CAP SCREWPart Number19H1900Qty Req4Serial No.45001-______Remarks5/16\" X 3/4\"\n",
      "17 - LOCK WASHERPart Number12H303Qty Req4Serial No.45001-______Remarks5/16\"\n",
      "17 - WASHERPart Number24M7207Qty Req4Serial No.45001-______Remarks8.400 X 24 X 2 MM\n",
      "18 - CLIPPart NumberM47182Qty Req1\n"
     ]
    }
   ],
   "source": [
    "element1_html.find_all('div',{'class':'col-xl-6 col-lg-6 col-xs-6  col-sm-6 col-md-5 text-muted partNo'})\n",
    "# element1_html_row=element1_html.find_all('div',{'class':'row'})\n",
    "# for i in element1_html_row:\n",
    "#     print(i)\n",
    "for e in element1_html_item:\n",
    "    print(e.div.text)"
   ]
  },
  {
   "cell_type": "code",
   "execution_count": 329,
   "metadata": {},
   "outputs": [],
   "source": [
    "import pprint\n",
    "import re"
   ]
  },
  {
   "cell_type": "code",
   "execution_count": 330,
   "metadata": {
    "scrolled": false
   },
   "outputs": [
    {
     "name": "stdout",
     "output_type": "stream",
     "text": [
      "part name: FENDER\n",
      "part number: AM31908,\n",
      "quantity1,\n",
      "Remarks:(NO LONGER AVAILABLE)\n"
     ]
    }
   ],
   "source": [
    "for i in element1_html_item:\n",
    "    x=re.split(\"\\d+ - |Part Number|Qty Req|Serial No.|Remarks\",i.div.text)\n",
    "#     pprint.pprint(x)\n",
    "    \n",
    "    i1=i.find_all('a',{'class':'partDesc disabledPartDesc'})\n",
    "    i2=i.find_all('a',{'class':'partDesc'})\n",
    "    if bool(i1)!=False:\n",
    "         i=i1\n",
    "    else:\n",
    "        i=i2\n",
    "#     for j in i:\n",
    "#         print(i)\n",
    "#         print(j.text)\n",
    "    \n",
    "    \n",
    "        \n",
    "    if 'NO LONGER AVAILABLE' in x[-1]:\n",
    "        print(f'part name: {x[1]}\\npart number: {x[2]},\\nquantity{x[3]},\\nRemarks:{x[4]}')"
   ]
  },
  {
   "cell_type": "code",
   "execution_count": null,
   "metadata": {},
   "outputs": [],
   "source": []
  },
  {
   "cell_type": "code",
   "execution_count": null,
   "metadata": {},
   "outputs": [],
   "source": []
  }
 ],
 "metadata": {
  "kernelspec": {
   "display_name": "Python 3",
   "language": "python",
   "name": "python3"
  },
  "language_info": {
   "codemirror_mode": {
    "name": "ipython",
    "version": 3
   },
   "file_extension": ".py",
   "mimetype": "text/x-python",
   "name": "python",
   "nbconvert_exporter": "python",
   "pygments_lexer": "ipython3",
   "version": "3.7.3"
  }
 },
 "nbformat": 4,
 "nbformat_minor": 2
}
