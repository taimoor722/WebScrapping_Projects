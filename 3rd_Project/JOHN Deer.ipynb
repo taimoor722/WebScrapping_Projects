{
 "cells": [
  {
   "cell_type": "code",
   "execution_count": 89,
   "metadata": {},
   "outputs": [],
   "source": [
    "from selenium import webdriver\n",
    "from selenium.webdriver.common.by import By\n",
    "from selenium.webdriver.common.keys import Keys\n",
    "from selenium.webdriver.support.ui import WebDriverWait\n",
    "from selenium.webdriver.support.expected_conditions import presence_of_element_located\n",
    "\n",
    "#This example requires Selenium WebDriver 3.13 or newer\n",
    "chromedriver=r\"C:\\Users\\taimo\\Desktop\\datascience_upwork\\chromedriver_win32\\chromedriver.exe\"\n",
    "\n",
    "driver=webdriver.Chrome(executable_path=chromedriver)\n",
    "# wait = WebDriverWait(driver, 10)\n",
    "# driver.get(\"https://google.com/ncr\")\n",
    "# driver.find_element_by_name(\"q\").send_keys(\"cheese\" + Keys.RETURN)\n",
    "# first_result = wait.until(presence_of_element_located((By.CSS_SELECTOR, \"h3>div\")))\n",
    "# print(first_result.get_attribute(\"textContent\"))"
   ]
  },
  {
   "cell_type": "code",
   "execution_count": 90,
   "metadata": {},
   "outputs": [],
   "source": [
    "# fc=class=\"ng-tns-c29-23 ui-inputtext ui-widget ui-state-default ui-corner-all ui-autocomplete-input ng-star-inserted\"\n",
    "# driver.find_element_by_class_name(fc).send_keys('70')"
   ]
  },
  {
   "cell_type": "code",
   "execution_count": 91,
   "metadata": {},
   "outputs": [],
   "source": [
    "import requests\n",
    "from bs4 import BeautifulSoup as bsup\n",
    "from selenium import webdriver\n",
    "from selenium.webdriver.support.ui import WebDriverWait\n",
    "from selenium.webdriver.support.expected_conditions import presence_of_element_located\n",
    "\n",
    "#     driver.find_element_by_name(\"q\").send_keys(\"cheese\" + Keys.RETURN)\n",
    "#     first_result = wait.until(presence_of_element_located((By.CSS_SELECTOR, \"h3>div\")))\n",
    "#     print(first_result.get_attribute(\"textContent\"))\n",
    "    \n",
    "    \n",
    "    \n",
    "import lxml\n",
    "chromedriver=r\"C:\\Users\\taimo\\Desktop\\datascience_upwork\\chromedriver_win32\\chromedriver.exe\"\n",
    "\n",
    "driver=webdriver.Chrome(executable_path=chromedriver)\n",
    "wait = WebDriverWait(driver, 10)\n",
    "# placeholder=\"PIN/Serial Number, Model\"\n",
    "driver.find_element_by_partial_link_text\n",
    "# driver.get('https://www.deere.com/en/parts-and-service/parts/')\n",
    "# driver.get('https://partscatalog.deere.com/jdrc/search/type/model/term/70')\n",
    "fc=\"ng-tns-c29-23 ui-inputtext ui-widget ui-state-default ui-corner-all ui-autocomplete-input ng-star-inserted\"\n",
    "# driver.find_element_by_class_name(fc).send_keys('70')\n",
    "fcx='//*[@id=\"SBSsearchInput\"]'"
   ]
  },
  {
   "cell_type": "code",
   "execution_count": 92,
   "metadata": {},
   "outputs": [],
   "source": [
    "# driver.find_element_by_xpath(fcx).send_keys('70'+ Keys.RETURN)"
   ]
  },
  {
   "cell_type": "code",
   "execution_count": 93,
   "metadata": {},
   "outputs": [],
   "source": [
    "driver.get('https://partscatalog.deere.com/jdrc/search/type/model/term/70')"
   ]
  },
  {
   "cell_type": "markdown",
   "metadata": {},
   "source": [
    "https://www.guru99.com/xpath-selenium.html"
   ]
  },
  {
   "cell_type": "code",
   "execution_count": 95,
   "metadata": {},
   "outputs": [],
   "source": [
    "# resultxpath='//*[@id=\"applicationContainer\"]/div/div[2]/div[1]/div[2]/app-search/div/div[2]/app-search-results/div/div[3]'\n",
    "# cls=driver.find_element_by_xpath(resultxpath)\n",
    "# cls=bsup(cls.parent.page_source,'html.parser')\n",
    "# cls=cls.find_all('div',{\"class\":\"linkList ng-star-inserted\"})\n",
    "# length=len(cls[0].find_all('a'))\n",
    "# cls[0].find_all('a')[1]\n",
    "# axpath='//*[@id=\"applicationContainer\"]/div/div[2]/div[1]/div[2]/app-search/div/div[2]/app-search-results/div/div[3]/a[1]'\n",
    "# # driver.find_element(cls[0].find_all('a')[0])"
   ]
  },
  {
   "cell_type": "code",
   "execution_count": 98,
   "metadata": {},
   "outputs": [
    {
     "data": {
      "text/plain": [
       "<a _ngcontent-c16=\"\" class=\"ng-star-inserted\"> 70 - 4-CYCLE<br _ngcontent-c16=\"\"/><span _ngcontent-c16=\"\" class=\"text-muted secondLine\">43CM Walk-Behind Mowers, 4-Cycle - PC4265</span></a>"
      ]
     },
     "execution_count": 98,
     "metadata": {},
     "output_type": "execute_result"
    }
   ],
   "source": [
    "# cls[0].find_all('a')[]\n"
   ]
  },
  {
   "cell_type": "code",
   "execution_count": null,
   "metadata": {},
   "outputs": [],
   "source": [
    "# driver.find_element(cls[0].find_all('a')[0])"
   ]
  },
  {
   "cell_type": "code",
   "execution_count": 143,
   "metadata": {},
   "outputs": [
    {
     "ename": "NoSuchElementException",
     "evalue": "Message: no such element: Unable to locate element: {\"method\":\"xpath\",\"selector\":\"//*[@id=\"applicationContainer\"]/div/div[2]/div[1]/div[2]/app-search/div/div[2]/app-search-results/div/div[3]\"}\n  (Session info: chrome=79.0.3945.130)\n",
     "output_type": "error",
     "traceback": [
      "\u001b[1;31m---------------------------------------------------------------------------\u001b[0m",
      "\u001b[1;31mNoSuchElementException\u001b[0m                    Traceback (most recent call last)",
      "\u001b[1;32m<ipython-input-143-39478772a943>\u001b[0m in \u001b[0;36m<module>\u001b[1;34m\u001b[0m\n\u001b[0;32m      2\u001b[0m \u001b[0melement_ls\u001b[0m\u001b[1;33m=\u001b[0m\u001b[0mdriver\u001b[0m\u001b[1;33m.\u001b[0m\u001b[0mexecute_script\u001b[0m\u001b[1;33m(\u001b[0m\u001b[1;34m\"return document.documentElement.inner\"\u001b[0m\u001b[1;33m)\u001b[0m\u001b[1;33m\u001b[0m\u001b[1;33m\u001b[0m\u001b[0m\n\u001b[0;32m      3\u001b[0m \u001b[1;31m# first_result = wait.until(presence_of_element_located((By.XPATH, sec_ls_path)))\u001b[0m\u001b[1;33m\u001b[0m\u001b[1;33m\u001b[0m\u001b[1;33m\u001b[0m\u001b[0m\n\u001b[1;32m----> 4\u001b[1;33m \u001b[0melement_ls\u001b[0m\u001b[1;33m=\u001b[0m\u001b[0mdriver\u001b[0m\u001b[1;33m.\u001b[0m\u001b[0mfind_element_by_xpath\u001b[0m\u001b[1;33m(\u001b[0m\u001b[1;34m'//*[@id=\"applicationContainer\"]/div/div[2]/div[1]/div[2]/app-search/div/div[2]/app-search-results/div/div[3]'\u001b[0m\u001b[1;33m)\u001b[0m\u001b[1;33m\u001b[0m\u001b[1;33m\u001b[0m\u001b[0m\n\u001b[0m\u001b[0;32m      5\u001b[0m \u001b[0mprint\u001b[0m\u001b[1;33m(\u001b[0m\u001b[0melement_ls\u001b[0m\u001b[1;33m)\u001b[0m\u001b[1;33m\u001b[0m\u001b[1;33m\u001b[0m\u001b[0m\n\u001b[0;32m      6\u001b[0m \u001b[1;32mfrom\u001b[0m \u001b[0mbs4\u001b[0m \u001b[1;32mimport\u001b[0m \u001b[0mBeautifulSoup\u001b[0m \u001b[1;32mas\u001b[0m \u001b[0mbsup\u001b[0m\u001b[1;33m\u001b[0m\u001b[1;33m\u001b[0m\u001b[0m\n",
      "\u001b[1;32m~\\Anaconda3\\lib\\site-packages\\selenium\\webdriver\\remote\\webdriver.py\u001b[0m in \u001b[0;36mfind_element_by_xpath\u001b[1;34m(self, xpath)\u001b[0m\n\u001b[0;32m    392\u001b[0m             \u001b[0melement\u001b[0m \u001b[1;33m=\u001b[0m \u001b[0mdriver\u001b[0m\u001b[1;33m.\u001b[0m\u001b[0mfind_element_by_xpath\u001b[0m\u001b[1;33m(\u001b[0m\u001b[1;34m'//div/td[1]'\u001b[0m\u001b[1;33m)\u001b[0m\u001b[1;33m\u001b[0m\u001b[1;33m\u001b[0m\u001b[0m\n\u001b[0;32m    393\u001b[0m         \"\"\"\n\u001b[1;32m--> 394\u001b[1;33m         \u001b[1;32mreturn\u001b[0m \u001b[0mself\u001b[0m\u001b[1;33m.\u001b[0m\u001b[0mfind_element\u001b[0m\u001b[1;33m(\u001b[0m\u001b[0mby\u001b[0m\u001b[1;33m=\u001b[0m\u001b[0mBy\u001b[0m\u001b[1;33m.\u001b[0m\u001b[0mXPATH\u001b[0m\u001b[1;33m,\u001b[0m \u001b[0mvalue\u001b[0m\u001b[1;33m=\u001b[0m\u001b[0mxpath\u001b[0m\u001b[1;33m)\u001b[0m\u001b[1;33m\u001b[0m\u001b[1;33m\u001b[0m\u001b[0m\n\u001b[0m\u001b[0;32m    395\u001b[0m \u001b[1;33m\u001b[0m\u001b[0m\n\u001b[0;32m    396\u001b[0m     \u001b[1;32mdef\u001b[0m \u001b[0mfind_elements_by_xpath\u001b[0m\u001b[1;33m(\u001b[0m\u001b[0mself\u001b[0m\u001b[1;33m,\u001b[0m \u001b[0mxpath\u001b[0m\u001b[1;33m)\u001b[0m\u001b[1;33m:\u001b[0m\u001b[1;33m\u001b[0m\u001b[1;33m\u001b[0m\u001b[0m\n",
      "\u001b[1;32m~\\Anaconda3\\lib\\site-packages\\selenium\\webdriver\\remote\\webdriver.py\u001b[0m in \u001b[0;36mfind_element\u001b[1;34m(self, by, value)\u001b[0m\n\u001b[0;32m    976\u001b[0m         return self.execute(Command.FIND_ELEMENT, {\n\u001b[0;32m    977\u001b[0m             \u001b[1;34m'using'\u001b[0m\u001b[1;33m:\u001b[0m \u001b[0mby\u001b[0m\u001b[1;33m,\u001b[0m\u001b[1;33m\u001b[0m\u001b[1;33m\u001b[0m\u001b[0m\n\u001b[1;32m--> 978\u001b[1;33m             'value': value})['value']\n\u001b[0m\u001b[0;32m    979\u001b[0m \u001b[1;33m\u001b[0m\u001b[0m\n\u001b[0;32m    980\u001b[0m     \u001b[1;32mdef\u001b[0m \u001b[0mfind_elements\u001b[0m\u001b[1;33m(\u001b[0m\u001b[0mself\u001b[0m\u001b[1;33m,\u001b[0m \u001b[0mby\u001b[0m\u001b[1;33m=\u001b[0m\u001b[0mBy\u001b[0m\u001b[1;33m.\u001b[0m\u001b[0mID\u001b[0m\u001b[1;33m,\u001b[0m \u001b[0mvalue\u001b[0m\u001b[1;33m=\u001b[0m\u001b[1;32mNone\u001b[0m\u001b[1;33m)\u001b[0m\u001b[1;33m:\u001b[0m\u001b[1;33m\u001b[0m\u001b[1;33m\u001b[0m\u001b[0m\n",
      "\u001b[1;32m~\\Anaconda3\\lib\\site-packages\\selenium\\webdriver\\remote\\webdriver.py\u001b[0m in \u001b[0;36mexecute\u001b[1;34m(self, driver_command, params)\u001b[0m\n\u001b[0;32m    319\u001b[0m         \u001b[0mresponse\u001b[0m \u001b[1;33m=\u001b[0m \u001b[0mself\u001b[0m\u001b[1;33m.\u001b[0m\u001b[0mcommand_executor\u001b[0m\u001b[1;33m.\u001b[0m\u001b[0mexecute\u001b[0m\u001b[1;33m(\u001b[0m\u001b[0mdriver_command\u001b[0m\u001b[1;33m,\u001b[0m \u001b[0mparams\u001b[0m\u001b[1;33m)\u001b[0m\u001b[1;33m\u001b[0m\u001b[1;33m\u001b[0m\u001b[0m\n\u001b[0;32m    320\u001b[0m         \u001b[1;32mif\u001b[0m \u001b[0mresponse\u001b[0m\u001b[1;33m:\u001b[0m\u001b[1;33m\u001b[0m\u001b[1;33m\u001b[0m\u001b[0m\n\u001b[1;32m--> 321\u001b[1;33m             \u001b[0mself\u001b[0m\u001b[1;33m.\u001b[0m\u001b[0merror_handler\u001b[0m\u001b[1;33m.\u001b[0m\u001b[0mcheck_response\u001b[0m\u001b[1;33m(\u001b[0m\u001b[0mresponse\u001b[0m\u001b[1;33m)\u001b[0m\u001b[1;33m\u001b[0m\u001b[1;33m\u001b[0m\u001b[0m\n\u001b[0m\u001b[0;32m    322\u001b[0m             response['value'] = self._unwrap_value(\n\u001b[0;32m    323\u001b[0m                 response.get('value', None))\n",
      "\u001b[1;32m~\\Anaconda3\\lib\\site-packages\\selenium\\webdriver\\remote\\errorhandler.py\u001b[0m in \u001b[0;36mcheck_response\u001b[1;34m(self, response)\u001b[0m\n\u001b[0;32m    240\u001b[0m                 \u001b[0malert_text\u001b[0m \u001b[1;33m=\u001b[0m \u001b[0mvalue\u001b[0m\u001b[1;33m[\u001b[0m\u001b[1;34m'alert'\u001b[0m\u001b[1;33m]\u001b[0m\u001b[1;33m.\u001b[0m\u001b[0mget\u001b[0m\u001b[1;33m(\u001b[0m\u001b[1;34m'text'\u001b[0m\u001b[1;33m)\u001b[0m\u001b[1;33m\u001b[0m\u001b[1;33m\u001b[0m\u001b[0m\n\u001b[0;32m    241\u001b[0m             \u001b[1;32mraise\u001b[0m \u001b[0mexception_class\u001b[0m\u001b[1;33m(\u001b[0m\u001b[0mmessage\u001b[0m\u001b[1;33m,\u001b[0m \u001b[0mscreen\u001b[0m\u001b[1;33m,\u001b[0m \u001b[0mstacktrace\u001b[0m\u001b[1;33m,\u001b[0m \u001b[0malert_text\u001b[0m\u001b[1;33m)\u001b[0m\u001b[1;33m\u001b[0m\u001b[1;33m\u001b[0m\u001b[0m\n\u001b[1;32m--> 242\u001b[1;33m         \u001b[1;32mraise\u001b[0m \u001b[0mexception_class\u001b[0m\u001b[1;33m(\u001b[0m\u001b[0mmessage\u001b[0m\u001b[1;33m,\u001b[0m \u001b[0mscreen\u001b[0m\u001b[1;33m,\u001b[0m \u001b[0mstacktrace\u001b[0m\u001b[1;33m)\u001b[0m\u001b[1;33m\u001b[0m\u001b[1;33m\u001b[0m\u001b[0m\n\u001b[0m\u001b[0;32m    243\u001b[0m \u001b[1;33m\u001b[0m\u001b[0m\n\u001b[0;32m    244\u001b[0m     \u001b[1;32mdef\u001b[0m \u001b[0m_value_or_default\u001b[0m\u001b[1;33m(\u001b[0m\u001b[0mself\u001b[0m\u001b[1;33m,\u001b[0m \u001b[0mobj\u001b[0m\u001b[1;33m,\u001b[0m \u001b[0mkey\u001b[0m\u001b[1;33m,\u001b[0m \u001b[0mdefault\u001b[0m\u001b[1;33m)\u001b[0m\u001b[1;33m:\u001b[0m\u001b[1;33m\u001b[0m\u001b[1;33m\u001b[0m\u001b[0m\n",
      "\u001b[1;31mNoSuchElementException\u001b[0m: Message: no such element: Unable to locate element: {\"method\":\"xpath\",\"selector\":\"//*[@id=\"applicationContainer\"]/div/div[2]/div[1]/div[2]/app-search/div/div[2]/app-search-results/div/div[3]\"}\n  (Session info: chrome=79.0.3945.130)\n"
     ]
    }
   ],
   "source": [
    "sec_ls_path='//*[@id=\"applicationContainer\"]/div/div[2]/div[1]/div[2]/app-navigation/div/app-navigation-results/div/div[1]/div[1]'\n",
    "element_ls=driver.execute_script(\"return document.documentElement.inner\")\n",
    "# first_result = wait.until(presence_of_element_located((By.XPATH, sec_ls_path)))\n",
    "element_ls=driver.find_element_by_xpath('//*[@id=\"applicationContainer\"]/div/div[2]/div[1]/div[2]/app-search/div/div[2]/app-search-results/div/div[3]')\n",
    "print(element_ls)\n",
    "from bs4 import BeautifulSoup as bsup\n",
    "element_ls=bsup(element_ls,'lxml')\n",
    "element_ls_item=element_ls.find_all('a',{'class':'ng-star-inserted'})\n",
    "print(element_ls_item)"
   ]
  },
  {
   "cell_type": "code",
   "execution_count": 104,
   "metadata": {},
   "outputs": [],
   "source": [
    "element0=driver.find_element_by_xpath(\n",
    "    '//*[@id=\"applicationContainer\"]/div/div[2]/div[1]/div[2]/app-search/div/div[2]/app-search-results/div/div[3]/a[20]')"
   ]
  },
  {
   "cell_type": "code",
   "execution_count": 105,
   "metadata": {},
   "outputs": [
    {
     "data": {
      "text/plain": [
       "<selenium.webdriver.remote.webelement.WebElement (session=\"ef3e2eb2b8e4aeddb0208f89ddf83b2a\", element=\"63dafa56-a10f-474f-95d2-e99f561e1181\")>"
      ]
     },
     "execution_count": 105,
     "metadata": {},
     "output_type": "execute_result"
    }
   ],
   "source": [
    "element0\n"
   ]
  },
  {
   "cell_type": "code",
   "execution_count": 106,
   "metadata": {},
   "outputs": [],
   "source": [
    "element0.click()"
   ]
  },
  {
   "cell_type": "code",
   "execution_count": null,
   "metadata": {},
   "outputs": [],
   "source": []
  },
  {
   "cell_type": "code",
   "execution_count": 142,
   "metadata": {},
   "outputs": [
    {
     "ename": "TypeError",
     "evalue": "'NoneType' object is not callable",
     "output_type": "error",
     "traceback": [
      "\u001b[1;31m---------------------------------------------------------------------------\u001b[0m",
      "\u001b[1;31mTypeError\u001b[0m                                 Traceback (most recent call last)",
      "\u001b[1;32m<ipython-input-142-56dd2d7699cf>\u001b[0m in \u001b[0;36m<module>\u001b[1;34m\u001b[0m\n\u001b[0;32m      5\u001b[0m \u001b[1;31m#     driver.elem.click()\u001b[0m\u001b[1;33m\u001b[0m\u001b[1;33m\u001b[0m\u001b[1;33m\u001b[0m\u001b[0m\n\u001b[0;32m      6\u001b[0m \u001b[1;32mfor\u001b[0m \u001b[0mi\u001b[0m \u001b[1;32min\u001b[0m \u001b[0mele\u001b[0m\u001b[1;33m.\u001b[0m\u001b[0mfind_all\u001b[0m\u001b[1;33m(\u001b[0m\u001b[1;34m'a'\u001b[0m\u001b[1;33m,\u001b[0m\u001b[1;33m{\u001b[0m\u001b[1;34m'_ngcontent-c21'\u001b[0m\u001b[1;33m:\u001b[0m\u001b[1;34m\"\"\u001b[0m \u001b[1;33m,\u001b[0m\u001b[1;34m'class'\u001b[0m\u001b[1;33m:\u001b[0m\u001b[1;34m\"ng-star-inserted\"\u001b[0m\u001b[1;33m}\u001b[0m\u001b[1;33m)\u001b[0m\u001b[1;33m[\u001b[0m\u001b[1;36m4\u001b[0m\u001b[1;33m:\u001b[0m\u001b[1;33m]\u001b[0m\u001b[1;33m:\u001b[0m\u001b[1;33m\u001b[0m\u001b[1;33m\u001b[0m\u001b[0m\n\u001b[1;32m----> 7\u001b[1;33m     \u001b[0mi\u001b[0m\u001b[1;33m.\u001b[0m\u001b[0mclick\u001b[0m\u001b[1;33m(\u001b[0m\u001b[1;33m)\u001b[0m\u001b[1;33m\u001b[0m\u001b[1;33m\u001b[0m\u001b[0m\n\u001b[0m\u001b[0;32m      8\u001b[0m     \u001b[1;32mbreak\u001b[0m\u001b[1;33m\u001b[0m\u001b[1;33m\u001b[0m\u001b[0m\n",
      "\u001b[1;31mTypeError\u001b[0m: 'NoneType' object is not callable"
     ]
    }
   ],
   "source": [
    "all_ls='<div _ngcontent-c21=\"\" class=\"linkList col-sm-6\"><!----><a _ngcontent-c21=\"\" class=\"ng-star-inserted\"><div _ngcontent-c21=\"\" class=\"textContainer\" id=\"dleft0\">FRAME, PEDESTAL, AND ENGINE BASE [A06] - 5</div></a><a _ngcontent-c21=\"\" class=\"ng-star-inserted\"><div _ngcontent-c21=\"\" class=\"textContainer\" id=\"dleft1\">SEAT AND FENDER-DECK [A07] - 6</div></a><a _ngcontent-c21=\"\" class=\"ng-star-inserted\"><div _ngcontent-c21=\"\" class=\"textContainer\" id=\"dleft2\">BATTERY AND BATTERY BASE [A08] - 7</div></a><a _ngcontent-c21=\"\" class=\"ng-star-inserted\"><div _ngcontent-c21=\"\" class=\"textContainer\" id=\"dleft3\">FRONT AXLE, WHEELS AND TIRES [A09] - 8</div></a><a _ngcontent-c21=\"\" class=\"ng-star-inserted\"><div _ngcontent-c21=\"\" class=\"textContainer\" id=\"dleft4\">HOOD AND GRILLE ASSEMBLY [A10] - 9</div></a><a _ngcontent-c21=\"\" class=\"ng-star-inserted\"><div _ngcontent-c21=\"\" class=\"textContainer\" id=\"dleft5\">STEERING WHEEL, STEERING GEAR, AND DRAG LINK [A11] - 10</div></a><a _ngcontent-c21=\"\" class=\"ng-star-inserted\"><div _ngcontent-c21=\"\" class=\"textContainer\" id=\"dleft6\">CYLINDER BLOCK, CRANKSHAFT AND MUFFLER [A12] - 11</div></a><a _ngcontent-c21=\"\" class=\"ng-star-inserted\"><div _ngcontent-c21=\"\" class=\"textContainer\" id=\"dleft7\">CYLINDER HEAD, BREATHER, AND GOVERNOR [A13] - 12</div></a><a _ngcontent-c21=\"\" class=\"ng-star-inserted\"><div _ngcontent-c21=\"\" class=\"textContainer\" id=\"dleft8\">CONNECTING ROD, PISTON, AND RINGS [A14] - 13</div></a><a _ngcontent-c21=\"\" class=\"ng-star-inserted\"><div _ngcontent-c21=\"\" class=\"textContainer\" id=\"dleft9\">VALVES, CAMSHAFT AND OIL PUMP [A15] - 14</div></a><a _ngcontent-c21=\"\" class=\"ng-star-inserted\"><div _ngcontent-c21=\"\" class=\"textContainer\" id=\"dleft10\">ENGINE MOUNTING FLANGE, OIL FILLER TUBE AND DIPSTICK [A16] - 15</div></a><a _ngcontent-c21=\"\" class=\"ng-star-inserted\"><div _ngcontent-c21=\"\" class=\"textContainer\" id=\"dleft11\">BLOWER HOUSING, MANUAL STARTER HUB AND AIR INTAKE SCREEN [A17] - 16</div></a><a _ngcontent-c21=\"\" class=\"ng-star-inserted\"><div _ngcontent-c21=\"\" class=\"textContainer\" id=\"dleft12\">AM30931 ROUND STARTER MOTOR (MODEL NO. 29965 STAMPED ON END CAP) [A18] - 17</div></a><a _ngcontent-c21=\"\" class=\"ng-star-inserted\"><div _ngcontent-c21=\"\" class=\"textContainer\" id=\"dleft13\">AM32092 ROUND STARTER MOTOR (MODEL NO. 32468A OR 32468B STAMPED ON END CAP) [A19] - 18</div></a><a _ngcontent-c21=\"\" class=\"ng-star-inserted\"><div _ngcontent-c21=\"\" class=\"textContainer\" id=\"dleft14\">AM34731 SQUARE STARTER MOTOR (MODEL NO. 33606 STAMPED ON BOTTOM) [A20] - 19</div></a><a _ngcontent-c21=\"\" class=\"ng-star-inserted\"><div _ngcontent-c21=\"\" class=\"textContainer\" id=\"dleft15\">FLYWHEEL, MAGNETO RECTIFIER, ALTERNATOR AND SPARK PLUG [A21] - 20</div></a><a _ngcontent-c21=\"\" class=\"ng-star-inserted\"><div _ngcontent-c21=\"\" class=\"textContainer\" id=\"dleft16\">WIRING HARNESS AND ELECTRICAL SYSTEM [A22] - 21</div></a><a _ngcontent-c21=\"\" class=\"ng-star-inserted\"><div _ngcontent-c21=\"\" class=\"textContainer\" id=\"dleft17\">CARBURETOR [A23] - 22</div></a><a _ngcontent-c21=\"\" class=\"ng-star-inserted\"><div _ngcontent-c21=\"\" class=\"textContainer\" id=\"dleft18\">AIR CLEANER AND INTAKE PIPE [A25] - 23</div></a><a _ngcontent-c21=\"\" class=\"ng-star-inserted\"><div _ngcontent-c21=\"\" class=\"textContainer\" id=\"dleft19\">FUEL TANK AND FILTER ASSEMBLY [B01] - 24</div></a></div>'\n",
    "ele=driver.find_element_by_xpath('//*[@id=\"applicationContainer\"]/div/div[2]/div[1]/div[2]/app-navigation/div/app-navigation-results/div/div[1]/div[1]')\n",
    "ele=bsup(ele.parent.page_source,'html.parser')\n",
    "# for elem in ele.find_all('a'):\n",
    "#     driver.elem.click()\n",
    "for i in ele.find_all('a',{'_ngcontent-c21':\"\" ,'class':\"ng-star-inserted\"})[4:]:\n",
    "    i.\n",
    "    break"
   ]
  },
  {
   "cell_type": "code",
   "execution_count": 308,
   "metadata": {},
   "outputs": [],
   "source": [
    "# html1=driver.find_element_by_tag_name(\"div\")"
   ]
  },
  {
   "cell_type": "code",
   "execution_count": null,
   "metadata": {},
   "outputs": [],
   "source": []
  },
  {
   "cell_type": "code",
   "execution_count": 309,
   "metadata": {},
   "outputs": [],
   "source": [
    "# html=driver.execute_script(\"return document.documentElement.outerHTML\")"
   ]
  },
  {
   "cell_type": "code",
   "execution_count": 310,
   "metadata": {},
   "outputs": [],
   "source": [
    "# html1=driver.find_element_by_tag_name(\"div\")"
   ]
  },
  {
   "cell_type": "code",
   "execution_count": 311,
   "metadata": {},
   "outputs": [],
   "source": [
    "# html=bsup(html,'lxml')\n",
    "# html"
   ]
  },
  {
   "cell_type": "code",
   "execution_count": 312,
   "metadata": {},
   "outputs": [],
   "source": [
    "# html1=bsup(html1,'lxml')\n",
    "# html1"
   ]
  },
  {
   "cell_type": "code",
   "execution_count": 313,
   "metadata": {},
   "outputs": [],
   "source": [
    "# taken2='https://partscatalog.deere.com/jdrc/search/type/model/term/43CM%20Walk-Behind%20Mowers%2C%204-Cycle%20-%20PC4253'\n",
    "# 'class=\"linkList ng-star-inserted\"'"
   ]
  },
  {
   "cell_type": "code",
   "execution_count": 314,
   "metadata": {},
   "outputs": [],
   "source": [
    "import requests"
   ]
  },
  {
   "cell_type": "code",
   "execution_count": 315,
   "metadata": {},
   "outputs": [],
   "source": [
    "# html.find_all('a',{'class':'ng-star-inserted'})"
   ]
  },
  {
   "cell_type": "code",
   "execution_count": 316,
   "metadata": {},
   "outputs": [],
   "source": [
    "# taken2='https://partscatalog.deere.com/jdrc/search/type/model/term/43CM%20Walk-Behind%20Mowers%2C%204-Cycle%20-%20PC4253'\n",
    "\n",
    "# for i in html.find_all('span',{'class':'text-muted secondLine'}):\n",
    "#     if 'Tractor' in i.text or 'Lawn Tractor'in i.text:\n",
    "#         i=i.text\n",
    "#         print(i)\n",
    "#         i=i.replace(' ','%20').replace(',','')\n",
    "#         taken0=f'https://partscatalog.deere.com/jdrc/search/type/model/term/{i}'\n",
    "#         print(taken0)\n",
    "#         taken2=f'https://partscatalog.deere.com/jdrc/search/type/model/term/43CM%20Walk-Behind%20Mowers%2C%204-Cycle%20-%20PC4253'\n"
   ]
  },
  {
   "cell_type": "code",
   "execution_count": 317,
   "metadata": {},
   "outputs": [],
   "source": [
    "# html.find_all('div _ngcontent-c21',{'class':'textContainer textContainerNoPictorial labelPadding'})"
   ]
  },
  {
   "cell_type": "code",
   "execution_count": 318,
   "metadata": {},
   "outputs": [],
   "source": [
    "# html.find_all('div')"
   ]
  },
  {
   "cell_type": "code",
   "execution_count": 3,
   "metadata": {},
   "outputs": [],
   "source": [
    "driver.get('https://partscatalog.deere.com/jdrc/navigation/equipment/68481')"
   ]
  },
  {
   "cell_type": "code",
   "execution_count": 49,
   "metadata": {},
   "outputs": [],
   "source": [
    "element1 = driver.find_element_by_xpath(\n",
    "    '//*[@id=\"applicationContainer\"]/div/div[2]/div[1]/div[2]/app-navigation/div/app-navigation-results/div/div[1]/div[1]/a[2]')"
   ]
  },
  {
   "cell_type": "code",
   "execution_count": 50,
   "metadata": {},
   "outputs": [],
   "source": [
    "element1.click()"
   ]
  },
  {
   "cell_type": "code",
   "execution_count": 51,
   "metadata": {},
   "outputs": [],
   "source": [
    "element1=driver.execute_script(\"return document.documentElement.outerHTML\")"
   ]
  },
  {
   "cell_type": "code",
   "execution_count": 52,
   "metadata": {},
   "outputs": [],
   "source": [
    "from bs4 import BeautifulSoup as bsup\n",
    "element1_html=bsup(element1,'lxml')\n",
    "element1_html_item=element1_html.find_all('div',{'class':'row partresultsection widthLimit ng-star-inserted'})\n"
   ]
  },
  {
   "cell_type": "code",
   "execution_count": 53,
   "metadata": {},
   "outputs": [
    {
     "data": {
      "text/plain": [
       "25"
      ]
     },
     "execution_count": 53,
     "metadata": {},
     "output_type": "execute_result"
    }
   ],
   "source": [
    "len(element1_html_item)"
   ]
  },
  {
   "cell_type": "code",
   "execution_count": 54,
   "metadata": {},
   "outputs": [
    {
     "name": "stdout",
     "output_type": "stream",
     "text": [
      "1 - PANPart Number........Qty Req1Serial No.______-45000Remarks(ORDER AM100163) (SUB FOR AM32456, AM33245 AND AM37480)\n",
      "2 - PADPart Number........Qty Req1Serial No.______-45000Remarks(ORDER AM100163) (SUB FOR AM32454, AM33245 AND AM37480)\n",
      "3 - ISOLATORPart NumberM44391Qty Req1Serial No.______-45000Remarks(3.048 M) 10 FT.\n",
      "4 - SPRINGPart NumberM41544Qty Req2info_outlineThis part has been substituted. View Details or add to cart to see substitute part information.\n",
      "5 - WASHERPart Number24H1305Qty Req4Serial No.______-45000Remarks13/32\" X 13/16\" X 0.065\"\n",
      "6 - LOCK WASHERPart Number12H304Qty Req4Serial No.______-45000Remarks3/8\"\n",
      "7 - NUTPart Number14H1076Qty Req4Serial No.______-45000Remarks3/8\"\n",
      "8 - CAP SCREWPart Number19H1731Qty Req4Remarks3/8\" X 1\"\n",
      "8 - NUTPart Number14H1076Qty Req4Remarks3/8\"\n",
      "8 - LOCK WASHERPart Number12H304Qty Req4Remarks3/8\"\n",
      "9 - CAP SCREWPart Number19H1936Qty Req2Remarks3/8\" X 3/4\"\n",
      "9 - NUTPart Number14H1076Qty Req2Remarks3/8\"\n",
      "9 - LOCK WASHERPart Number12H304Qty Req2Remarks3/8\"\n",
      "10 - WASHERPart Number24H1308Qty Req2Remarks13/32\" X 1\" X 0.134\"\n",
      "11 - FENDERPart NumberAM31908Qty Req1Remarks(NO LONGER AVAILABLE)\n",
      "12 - SEATPart NumberAM102953Qty Req1Remarks(SUB FOR AM34065, AM37580, AM37783, AM38671, AM39671 AND AM103153) (DELUXE HIGH BACK) (EXTRA EQUIPMENT)View Alternative Parts\n",
      "13 - LOCK WASHERPart Number12H304Qty Req4Remarks3/8\"\n",
      "14 - CAP SCREWPart Number19H1936Qty Req4Remarks3/8\" X 3/4\"\n",
      "15 - SCREWPart Number37H108Qty Req2Remarks3/8\" X 5/8\"\n",
      "16A - SEATPart Number........Qty Req1Serial No.45001-______Remarks(ORDER AM100163) (SUB FOR AM33245, AM36866 AND AM37480)\n",
      "16B - SEATPart NumberAM100163Qty Req1\n",
      "17 - CAP SCREWPart Number19H1900Qty Req4Serial No.45001-______Remarks5/16\" X 3/4\"\n",
      "17 - LOCK WASHERPart Number12H303Qty Req4Serial No.45001-______Remarks5/16\"\n",
      "17 - WASHERPart Number24M7207Qty Req4Serial No.45001-______Remarks8.400 X 24 X 2 MM\n",
      "18 - CLIPPart NumberM47182Qty Req1\n"
     ]
    }
   ],
   "source": [
    "element1_html.find_all('div',{'class':'col-xl-6 col-lg-6 col-xs-6  col-sm-6 col-md-5 text-muted partNo'})\n",
    "# element1_html_row=element1_html.find_all('div',{'class':'row'})\n",
    "# for i in element1_html_row:\n",
    "#     print(i)\n",
    "for e in element1_html_item:\n",
    "    print(e.div.text)"
   ]
  },
  {
   "cell_type": "code",
   "execution_count": 55,
   "metadata": {},
   "outputs": [],
   "source": [
    "import pprint\n",
    "import re"
   ]
  },
  {
   "cell_type": "code",
   "execution_count": 56,
   "metadata": {
    "scrolled": false
   },
   "outputs": [
    {
     "name": "stdout",
     "output_type": "stream",
     "text": [
      "part name: FENDER\n",
      "part number: AM31908,\n",
      "quantity1,\n",
      "Remarks:(NO LONGER AVAILABLE)\n"
     ]
    }
   ],
   "source": [
    "for i in element1_html_item:\n",
    "    x=re.split(\"\\d+ - |Part Number|Qty Req|Serial No.|Remarks\",i.div.text)\n",
    "#     pprint.pprint(x)\n",
    "    \n",
    "    i1=i.find_all('a',{'class':'partDesc disabledPartDesc'})\n",
    "    i2=i.find_all('a',{'class':'partDesc'})\n",
    "    if bool(i1)!=False:\n",
    "         i=i1\n",
    "    else:\n",
    "        i=i2\n",
    "#     for j in i:\n",
    "#         print(i)\n",
    "#         print(j.text)\n",
    "    \n",
    "    \n",
    "        \n",
    "    if 'NO LONGER AVAILABLE' in x[-1]:\n",
    "        print(f'part name: {x[1]}\\npart number: {x[2]},\\nquantity{x[3]},\\nRemarks:{x[4]}')"
   ]
  },
  {
   "cell_type": "markdown",
   "metadata": {},
   "source": [
    "### presentable project"
   ]
  },
  {
   "cell_type": "code",
   "execution_count": 82,
   "metadata": {},
   "outputs": [
    {
     "name": "stdout",
     "output_type": "stream",
     "text": [
      "please enter part no:70\n"
     ]
    }
   ],
   "source": [
    "from selenium import webdriver\n",
    "from selenium.webdriver.common.by import By\n",
    "from selenium.webdriver.common.keys import Keys\n",
    "from selenium.webdriver.support.ui import WebDriverWait\n",
    "from selenium.webdriver.support.expected_conditions import presence_of_element_located\n",
    "\n",
    "import lxml\n",
    "chromedriver=r\"C:\\Users\\taimo\\Desktop\\datascience_upwork\\chromedriver_win32\\chromedriver.exe\"\n",
    "\n",
    "driver=webdriver.Chrome(executable_path=chromedriver)\n",
    "wait = WebDriverWait(driver, 10)\n",
    "\n",
    "\n",
    "part=input('please enter part no:')"
   ]
  },
  {
   "cell_type": "code",
   "execution_count": 83,
   "metadata": {},
   "outputs": [
    {
     "name": "stdout",
     "output_type": "stream",
     "text": [
      "part name: FENDER\n",
      "part number: AM31908,\n",
      "quantity1,\n",
      "Remarks:(NO LONGER AVAILABLE)\n"
     ]
    }
   ],
   "source": [
    "######link to search model 70\n",
    "driver.get('https://www.deere.com/en/parts-and-service/parts/')\n",
    "########\n",
    "# fcx='//*[@id=\"SBSsearchInput\"]'\n",
    "\n",
    "# first_result = wait.until(presence_of_element_located((By.XPATH, \n",
    "#                                                       fcx)))\n",
    "# ########\n",
    "# driver.find_element_by_xpath(fcx).send_keys('70'+ Keys.RETURN)\n",
    "driver.get(f'https://partscatalog.deere.com/jdrc/search/type/model/term/{part}')\n",
    "#####################------------------------\n",
    "sec_ls_path='//*[@id=\"applicationContainer\"]/div/div[2]/div[1]/div[2]/app-navigation/div/app-navigation-results/div/div[1]/div[1]'\n",
    "\n",
    "first_result = wait.until(presence_of_element_located((By.XPATH, sec_ls_path)))\n",
    "element_ls=driver.find_element_by_xpath(sec_ls_path)\n",
    "from bs4 import BeautifulSoup as bsup\n",
    "element_ls=bsup(element1,'lxml')\n",
    "element_ls_item=element_ls.find_all('a',{'class':'ng-star-inserted'})\n",
    "#################################\n",
    "######click on for\n",
    "first_result = wait.until(presence_of_element_located((By.XPATH, \n",
    "        '//*[@id=\"applicationContainer\"]/div/div[2]/div[1]/div[2]/app-search/div/div[2]/app-search-results/div/div[3]/a[20]')))\n",
    "\n",
    "\n",
    "\n",
    "\n",
    "###############\n",
    "element0=driver.find_element_by_xpath(\n",
    "    '//*[@id=\"applicationContainer\"]/div/div[2]/div[1]/div[2]/app-search/div/div[2]/app-search-results/div/div[3]/a[20]')\n",
    "element0.click()\n",
    "\n",
    "\n",
    "\n",
    "##########\n",
    "first_result = wait.until(presence_of_element_located((By.XPATH,\n",
    "'//*[@id=\"applicationContainer\"]/div/div[2]/div[1]/div[2]/app-navigation/div/app-navigation-results/div/div[1]/div[1]/a[2]')))\n",
    "\n",
    "\n",
    "##########\n",
    "\n",
    "\n",
    "element1 = driver.find_element_by_xpath(\n",
    "    '//*[@id=\"applicationContainer\"]/div/div[2]/div[1]/div[2]/app-navigation/div/app-navigation-results/div/div[1]/div[1]/a[2]')\n",
    "\n",
    "element1.click()\n",
    "##########\n",
    "first_result = wait.until(presence_of_element_located((By.XPATH,\n",
    "                    '//*[@id=\"applicationContainer\"]/div/div[2]/div[1]/div[2]/app-sidebyside/div/div/div[2]/div[3]')))\n",
    "\n",
    "\n",
    "\n",
    "###################\n",
    "\n",
    "element1=driver.execute_script(\"return document.documentElement.outerHTML\")\n",
    "\n",
    "#####################\n",
    "\n",
    "from bs4 import BeautifulSoup as bsup\n",
    "element1_html=bsup(element1,'lxml')\n",
    "element1_html_item=element1_html.find_all('div',{'class':'row partresultsection widthLimit ng-star-inserted'})\n",
    "#################################\n",
    "# len(element1_html_item)\n",
    "####################################\n",
    "# element1_html.find_all('div',{'class':'col-xl-6 col-lg-6 col-xs-6  col-sm-6 col-md-5 text-muted partNo'})\n",
    "# element1_html_row=element1_html.find_all('div',{'class':'row'})\n",
    "# for i in element1_html_row:\n",
    "#     print(i)\n",
    "# for e in element1_html_item:\n",
    "#     print(e.div.text)\n",
    "# print(element1_html_item)\n",
    "##################################################\n",
    "import pprint\n",
    "import re\n",
    "    \n",
    "for i in element1_html_item:\n",
    "    x=re.split(\"\\d+ - |Part Number|Qty Req|Serial No.|Remarks\",i.div.text)\n",
    "#     pprint.pprint(x)\n",
    "    \n",
    "    i1=i.find_all('a',{'class':'partDesc disabledPartDesc'})\n",
    "    i2=i.find_all('a',{'class':'partDesc'})\n",
    "    if bool(i1)!=False:\n",
    "         i=i1\n",
    "    else:\n",
    "        i=i2\n",
    "#     for j in i:\n",
    "#         print(i)\n",
    "#         print(j.text)\n",
    "    \n",
    "    \n",
    "        \n",
    "    if 'NO LONGER AVAILABLE' in x[-1]:\n",
    "        print(f'part name: {x[1]}\\npart number: {x[2]},\\nquantity{x[3]},\\nRemarks:{x[4]}')"
   ]
  },
  {
   "cell_type": "markdown",
   "metadata": {},
   "source": [
    "###  "
   ]
  },
  {
   "cell_type": "markdown",
   "metadata": {},
   "source": [
    "###  "
   ]
  },
  {
   "cell_type": "markdown",
   "metadata": {},
   "source": [
    "###  "
   ]
  },
  {
   "cell_type": "markdown",
   "metadata": {},
   "source": [
    "###  "
   ]
  },
  {
   "cell_type": "code",
   "execution_count": 89,
   "metadata": {},
   "outputs": [],
   "source": [
    "#FUNCTION CREATED\n",
    "def johndeer():\n",
    "    from selenium import webdriver\n",
    "    from selenium.webdriver.common.by import By\n",
    "    from selenium.webdriver.common.keys import Keys\n",
    "    from selenium.webdriver.support.ui import WebDriverWait\n",
    "    from selenium.webdriver.support.expected_conditions import presence_of_element_located\n",
    "\n",
    "    import lxml\n",
    "    chromedriver=r\"C:\\Users\\taimo\\Desktop\\datascience_upwork\\chromedriver_win32\\chromedriver.exe\"\n",
    "\n",
    "    driver=webdriver.Chrome(executable_path=chromedriver)\n",
    "    wait = WebDriverWait(driver, 10)\n",
    "\n",
    "\n",
    "    part=input('please enter part no:')\n",
    "    ######link to search model 70\n",
    "    driver.get('https://www.deere.com/en/parts-and-service/parts/')\n",
    "    ########\n",
    "\n",
    "    driver.get(f'https://partscatalog.deere.com/jdrc/search/type/model/term/{part}')\n",
    "\n",
    "    ######click on for\n",
    "    first_result = wait.until(presence_of_element_located((By.XPATH, \n",
    "            '//*[@id=\"applicationContainer\"]/div/div[2]/div[1]/div[2]/app-search/div/div[2]/app-search-results/div/div[3]/a[20]')))\n",
    "    ###############\n",
    "    element0=driver.find_element_by_xpath(\n",
    "        '//*[@id=\"applicationContainer\"]/div/div[2]/div[1]/div[2]/app-search/div/div[2]/app-search-results/div/div[3]/a[20]')\n",
    "    element0.click()\n",
    "\n",
    "\n",
    "\n",
    "    ##########\n",
    "    first_result = wait.until(presence_of_element_located((By.XPATH,\n",
    "    '//*[@id=\"applicationContainer\"]/div/div[2]/div[1]/div[2]/app-navigation/div/app-navigation-results/div/div[1]/div[1]/a[2]')))\n",
    "\n",
    "\n",
    "    ##########\n",
    "\n",
    "\n",
    "    element1 = driver.find_element_by_xpath(\n",
    "        '//*[@id=\"applicationContainer\"]/div/div[2]/div[1]/div[2]/app-navigation/div/app-navigation-results/div/div[1]/div[1]/a[2]')\n",
    "\n",
    "    element1.click()\n",
    "    ##########\n",
    "    first_result = wait.until(presence_of_element_located((By.XPATH,\n",
    "                        '//*[@id=\"applicationContainer\"]/div/div[2]/div[1]/div[2]/app-sidebyside/div/div/div[2]/div[3]')))\n",
    "\n",
    "\n",
    "\n",
    "    ###################\n",
    "\n",
    "    element1=driver.execute_script(\"return document.documentElement.outerHTML\")\n",
    "\n",
    "    #####################\n",
    "\n",
    "    from bs4 import BeautifulSoup as bsup\n",
    "    element1_html=bsup(element1,'lxml')\n",
    "    element1_html_item=element1_html.find_all('div',{'class':'row partresultsection widthLimit ng-star-inserted'})\n",
    "\n",
    "    ##################################################\n",
    "    import pprint\n",
    "    import re\n",
    "\n",
    "    for i in element1_html_item:\n",
    "        x=re.split(\"\\d+ - |Part Number|Qty Req|Serial No.|Remarks\",i.div.text)\n",
    "    #     pprint.pprint(x)\n",
    "\n",
    "        i1=i.find_all('a',{'class':'partDesc disabledPartDesc'})\n",
    "        i2=i.find_all('a',{'class':'partDesc'})\n",
    "        if bool(i1)!=False:\n",
    "             i=i1\n",
    "        else:\n",
    "            i=i2\n",
    "\n",
    "\n",
    "\n",
    "\n",
    "        if 'NO LONGER AVAILABLE' in x[-1]:\n",
    "            print(f'part name: {x[1]}\\npart number: {x[2]},\\nquantity{x[3]},\\nRemarks:{x[4]}')"
   ]
  },
  {
   "cell_type": "code",
   "execution_count": 90,
   "metadata": {},
   "outputs": [
    {
     "name": "stdout",
     "output_type": "stream",
     "text": [
      "please enter part no:70\n",
      "part name: FENDER\n",
      "part number: AM31908,\n",
      "quantity1,\n",
      "Remarks:(NO LONGER AVAILABLE)\n"
     ]
    }
   ],
   "source": [
    "johndeer()"
   ]
  },
  {
   "cell_type": "code",
   "execution_count": null,
   "metadata": {},
   "outputs": [],
   "source": []
  }
 ],
 "metadata": {
  "kernelspec": {
   "display_name": "Python 3",
   "language": "python",
   "name": "python3"
  },
  "language_info": {
   "codemirror_mode": {
    "name": "ipython",
    "version": 3
   },
   "file_extension": ".py",
   "mimetype": "text/x-python",
   "name": "python",
   "nbconvert_exporter": "python",
   "pygments_lexer": "ipython3",
   "version": "3.7.3"
  }
 },
 "nbformat": 4,
 "nbformat_minor": 2
}
